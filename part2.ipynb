{
 "cells": [
  {
   "cell_type": "code",
   "execution_count": null,
   "metadata": {},
   "outputs": [],
   "source": [
    "import numpy as np\n",
    "import requests\n",
    "import pandas as pd\n",
    "import matplotlib.pyplot as plt\n",
    "import genieclust\n",
    "from sklearn.cluster import KMeans, AgglomerativeClustering, DBSCAN\n",
    "from sklearn.mixture import GaussianMixture\n",
    "import hdbscan \n",
    "from sklearn_som.som import SOM\n",
    "from sklearn.metrics.cluster import adjusted_mutual_info_score, adjusted_rand_score, v_measure_score\n",
    "from sklearn.metrics import confusion_matrix, ConfusionMatrixDisplay\n",
    "import time"
   ]
  },
  {
   "attachments": {},
   "cell_type": "markdown",
   "metadata": {},
   "source": [
    "# **<span style=\"color:#3c1518\">2D Dataset</span>**"
   ]
  },
  {
   "cell_type": "code",
   "execution_count": null,
   "metadata": {},
   "outputs": [],
   "source": [
    "github = \"https://raw.githubusercontent.com/gagolews/clustering-data-v1/master/\"\n",
    "\n",
    "dataset = \"fcps/engytime\" # Change dataset here \n",
    "data_url = github + dataset + \".data.gz\"\n",
    "labels_url = github + dataset + \".labels0.gz\"\n",
    "\n",
    "response = requests.get(data_url)\n",
    "open(\"dataset.gz\", \"wb\").write(response.content)\n",
    "response = requests.get(labels_url)\n",
    "open(\"labels.gz\", \"wb\").write(response.content)\n",
    "\n",
    "X = np.loadtxt(\"dataset.gz\", ndmin=2)\n",
    "y = np.loadtxt(\"labels.gz\", dtype=np.intc)-1\n",
    "n_clusters = len(np.unique(y))\n",
    "\n",
    "metrics = pd.DataFrame(columns=['Clustering Algorithm', 'ARI', 'AMI', 'V-measure'])\n",
    "confMatrix = pd.DataFrame(columns=['Clustering Algorithm', 'Confusion Matrix Settings'])"
   ]
  },
  {
   "attachments": {},
   "cell_type": "markdown",
   "metadata": {},
   "source": [
    "## <span style=\"color:#69140e\">K-Means</span>"
   ]
  },
  {
   "cell_type": "code",
   "execution_count": null,
   "metadata": {},
   "outputs": [],
   "source": [
    "clStr = 'K-Means'\n",
    "cl = KMeans(n_clusters=2, random_state=0)\n",
    "cl.fit(X)\n",
    "prediction = cl.labels_\n",
    "\n",
    "ari = adjusted_rand_score(y, prediction)\n",
    "ami = adjusted_mutual_info_score(y, prediction)\n",
    "v_measure = v_measure_score(y, prediction)\n",
    "\n",
    "if not (clStr in metrics['Clustering Algorithm'].unique()):\n",
    "    metrics.loc[len(metrics)] = [clStr, ari, ami, v_measure]\n",
    "else:\n",
    "    index = metrics[metrics['Clustering Algorithm']== clStr].index.to_list()[0] \n",
    "    metrics.loc[index] = [clStr, ari, ami, v_measure]\n",
    "\n",
    "cm = confusion_matrix(y, prediction, labels=[0,1])\n",
    "disp = ConfusionMatrixDisplay(confusion_matrix=cm,display_labels=[0,1])\n",
    "\n",
    "if not (clStr in confMatrix['Clustering Algorithm'].unique()):\n",
    "    confMatrix.loc[len(metrics)] = [clStr, disp]\n",
    "else:\n",
    "    index = confMatrix[confMatrix['Clustering Algorithm']== clStr].index.to_list()[0] \n",
    "    confMatrix.loc[index] = [clStr, disp]\n",
    "\n",
    "genieclust.plots.plot_scatter(X, labels=y)\n",
    "plt.title(\"True Clusters\")\n",
    "plt.axis(\"equal\")\n",
    "plt.show()\n",
    "\n",
    "genieclust.plots.plot_scatter(X, labels=prediction)\n",
    "plt.title(\"Predicted Clusters\") \n",
    "plt.axis(\"equal\")\n",
    "plt.show()"
   ]
  },
  {
   "attachments": {},
   "cell_type": "markdown",
   "metadata": {},
   "source": [
    "## <span style=\"color:#69140e\">HAC</span>"
   ]
  },
  {
   "cell_type": "code",
   "execution_count": null,
   "metadata": {},
   "outputs": [],
   "source": [
    "clStr = 'HAC'\n",
    "cl = AgglomerativeClustering(n_clusters= 2)\n",
    "cl.fit(X)\n",
    "prediction = cl.labels_\n",
    "\n",
    "ari = adjusted_rand_score(y, prediction)\n",
    "ami = adjusted_mutual_info_score(y, prediction)\n",
    "v_measure = v_measure_score(y, prediction)\n",
    "\n",
    "if not (clStr in metrics['Clustering Algorithm'].unique()):\n",
    "    metrics.loc[len(metrics)] = [clStr, ari, ami, v_measure]\n",
    "else:\n",
    "    index = metrics[metrics['Clustering Algorithm']== clStr].index.to_list()[0] \n",
    "    metrics.loc[index] = [clStr, ari, ami, v_measure]\n",
    "\n",
    "cm = confusion_matrix(y, prediction, labels=[0,1])\n",
    "disp = ConfusionMatrixDisplay(confusion_matrix=cm,display_labels=[0,1])\n",
    "\n",
    "if not (clStr in confMatrix['Clustering Algorithm'].unique()):\n",
    "    confMatrix.loc[len(metrics)] = [clStr, disp]\n",
    "else:\n",
    "    index = confMatrix[confMatrix['Clustering Algorithm']== clStr].index.to_list()[0] \n",
    "    confMatrix.loc[index] = [clStr, disp]\n",
    "    \n",
    "genieclust.plots.plot_scatter(X, labels=y)\n",
    "plt.title(\"True Clusters\")\n",
    "plt.axis(\"equal\")\n",
    "plt.show()\n",
    "\n",
    "genieclust.plots.plot_scatter(X, labels=prediction)\n",
    "plt.title(\"Predicted Clusters\") \n",
    "plt.axis(\"equal\")\n",
    "plt.show()"
   ]
  },
  {
   "attachments": {},
   "cell_type": "markdown",
   "metadata": {},
   "source": [
    "## <span style=\"color:#69140e\">GMM</span>"
   ]
  },
  {
   "cell_type": "code",
   "execution_count": null,
   "metadata": {},
   "outputs": [],
   "source": [
    "clStr = 'GMM'\n",
    "cl = GaussianMixture(n_components=2, random_state=0)\n",
    "cl.fit(X)\n",
    "prediction = cl.predict(X)\n",
    "\n",
    "ari = adjusted_rand_score(y, prediction)\n",
    "ami = adjusted_mutual_info_score(y, prediction)\n",
    "v_measure = v_measure_score(y, prediction)\n",
    "\n",
    "if not (clStr in metrics['Clustering Algorithm'].unique()):\n",
    "    metrics.loc[len(metrics)] = [clStr, ari, ami, v_measure]\n",
    "else:\n",
    "    index = metrics[metrics['Clustering Algorithm']== clStr].index.to_list()[0] \n",
    "    metrics.loc[index] = [clStr, ari, ami, v_measure]\n",
    "\n",
    "cm = confusion_matrix(y, prediction, labels=[0,1])\n",
    "disp = ConfusionMatrixDisplay(confusion_matrix=cm,display_labels=[0,1])\n",
    "\n",
    "if not (clStr in confMatrix['Clustering Algorithm'].unique()):\n",
    "    confMatrix.loc[len(metrics)] = [clStr, disp]\n",
    "else:\n",
    "    index = confMatrix[confMatrix['Clustering Algorithm']== clStr].index.to_list()[0] \n",
    "    confMatrix.loc[index] = [clStr, disp]    \n",
    "\n",
    "genieclust.plots.plot_scatter(X, labels=y)\n",
    "plt.title(\"True Clusters\")\n",
    "plt.axis(\"equal\")\n",
    "plt.show()\n",
    "\n",
    "genieclust.plots.plot_scatter(X, labels=prediction)\n",
    "plt.title(\"Predicted Clusters\") \n",
    "plt.axis(\"equal\")\n",
    "plt.show()"
   ]
  },
  {
   "attachments": {},
   "cell_type": "markdown",
   "metadata": {},
   "source": [
    "## <span style=\"color:#69140e\">DBSCAN</span>"
   ]
  },
  {
   "cell_type": "code",
   "execution_count": null,
   "metadata": {},
   "outputs": [],
   "source": [
    "clStr = 'DBSCAN'\n",
    "cl = DBSCAN()\n",
    "cl.fit(X)\n",
    "prediction = cl.labels_\n",
    "\n",
    "ari = adjusted_rand_score(y, prediction)\n",
    "ami = adjusted_mutual_info_score(y, prediction)\n",
    "v_measure = v_measure_score(y, prediction)\n",
    "\n",
    "if not (clStr in metrics['Clustering Algorithm'].unique()):\n",
    "    metrics.loc[len(metrics)] = [clStr, ari, ami, v_measure]\n",
    "else:\n",
    "    index = metrics[metrics['Clustering Algorithm']== clStr].index.to_list()[0] \n",
    "    metrics.loc[index] = [clStr, ari, ami, v_measure]\n",
    "\n",
    "cm = confusion_matrix(y, prediction, labels=[0,1])\n",
    "disp = ConfusionMatrixDisplay(confusion_matrix=cm,display_labels=[0,1])\n",
    "\n",
    "if not (clStr in confMatrix['Clustering Algorithm'].unique()):\n",
    "    confMatrix.loc[len(metrics)] = [clStr, disp]\n",
    "else:\n",
    "    index = confMatrix[confMatrix['Clustering Algorithm']== clStr].index.to_list()[0] \n",
    "    confMatrix.loc[index] = [clStr, disp]\n",
    "    \n",
    "genieclust.plots.plot_scatter(X, labels=y)\n",
    "plt.title(\"True Clusters\")\n",
    "plt.axis(\"equal\")\n",
    "plt.show()\n",
    "\n",
    "genieclust.plots.plot_scatter(X, labels=prediction)\n",
    "plt.title(\"Predicted Clusters\") \n",
    "plt.axis(\"equal\")\n",
    "plt.show()"
   ]
  },
  {
   "attachments": {},
   "cell_type": "markdown",
   "metadata": {},
   "source": [
    "## <span style=\"color:#69140e\">HDBSCAN</span>"
   ]
  },
  {
   "cell_type": "code",
   "execution_count": null,
   "metadata": {},
   "outputs": [],
   "source": [
    "clStr = 'HDBSCAN'\n",
    "cl = hdbscan.HDBSCAN(min_cluster_size=2, min_samples= 350)\n",
    "prediction = cl.fit_predict(X)\n",
    "#prediction = cl.labels_\n",
    "\n",
    "ari = adjusted_rand_score(y, prediction)\n",
    "ami = adjusted_mutual_info_score(y, prediction)\n",
    "v_measure = v_measure_score(y, prediction)\n",
    "\n",
    "if not (clStr in metrics['Clustering Algorithm'].unique()):\n",
    "    metrics.loc[len(metrics)] = [clStr, ari, ami, v_measure]\n",
    "else:\n",
    "    index = metrics[metrics['Clustering Algorithm']== clStr].index.to_list()[0] \n",
    "    metrics.loc[index] = [clStr, ari, ami, v_measure]\n",
    "\n",
    "cm = confusion_matrix(y, prediction, labels=[0,1])\n",
    "disp = ConfusionMatrixDisplay(confusion_matrix=cm,display_labels=[0,1])\n",
    "\n",
    "if not (clStr in confMatrix['Clustering Algorithm'].unique()):\n",
    "    confMatrix.loc[len(metrics)] = [clStr, disp]\n",
    "else:\n",
    "    index = confMatrix[confMatrix['Clustering Algorithm']== clStr].index.to_list()[0] \n",
    "    confMatrix.loc[index] = [clStr, disp]\n",
    "\n",
    "genieclust.plots.plot_scatter(X, labels=y)\n",
    "plt.title(\"True Clusters\")\n",
    "plt.axis(\"equal\")\n",
    "plt.show()\n",
    "\n",
    "genieclust.plots.plot_scatter(X, labels=prediction)\n",
    "plt.title(\"Predicted Clusters\") \n",
    "plt.axis(\"equal\")\n",
    "plt.show()"
   ]
  },
  {
   "attachments": {},
   "cell_type": "markdown",
   "metadata": {},
   "source": [
    "## <span style=\"color:#69140e\">SOM</span>"
   ]
  },
  {
   "cell_type": "code",
   "execution_count": null,
   "metadata": {},
   "outputs": [],
   "source": [
    "clStr = 'SOM'\n",
    "cl = SOM(m=2, n=1, dim=2)\n",
    "cl.fit(X)\n",
    "prediction = cl.predict(X)\n",
    "\n",
    "ari = adjusted_rand_score(y, prediction)\n",
    "ami = adjusted_mutual_info_score(y, prediction)\n",
    "v_measure = v_measure_score(y, prediction)\n",
    "\n",
    "if not (clStr in metrics['Clustering Algorithm'].unique()):\n",
    "    metrics.loc[len(metrics)] = [clStr, ari, ami, v_measure]\n",
    "else:\n",
    "    index = metrics[metrics['Clustering Algorithm']== clStr].index.to_list()[0] \n",
    "    metrics.loc[index] = [clStr, ari, ami, v_measure]\n",
    "\n",
    "cm = confusion_matrix(y, prediction, labels=[0,1])\n",
    "disp = ConfusionMatrixDisplay(confusion_matrix=cm,display_labels=[0,1])\n",
    "\n",
    "if not (clStr in confMatrix['Clustering Algorithm'].unique()):\n",
    "    confMatrix.loc[len(metrics)] = [clStr, disp]\n",
    "else:\n",
    "    index = confMatrix[confMatrix['Clustering Algorithm']== clStr].index.to_list()[0] \n",
    "    confMatrix.loc[index] = [clStr, disp]\n",
    "    \n",
    "genieclust.plots.plot_scatter(X, labels=y)\n",
    "plt.title(\"True Clusters\")\n",
    "plt.axis(\"equal\")\n",
    "plt.show()\n",
    "\n",
    "genieclust.plots.plot_scatter(X, labels=prediction)\n",
    "plt.title(\"Predicted Clusters\") \n",
    "plt.axis(\"equal\")\n",
    "plt.show()"
   ]
  },
  {
   "cell_type": "code",
   "execution_count": null,
   "metadata": {},
   "outputs": [],
   "source": [
    "# Reset confMatrix Index\n",
    "confMatrix.reset_index(drop= True, inplace= True)"
   ]
  },
  {
   "attachments": {},
   "cell_type": "markdown",
   "metadata": {},
   "source": [
    "# **<span style=\"color:#3c1518\">Results</span>**"
   ]
  },
  {
   "cell_type": "code",
   "execution_count": null,
   "metadata": {},
   "outputs": [],
   "source": [
    "metrics"
   ]
  },
  {
   "attachments": {},
   "cell_type": "markdown",
   "metadata": {},
   "source": [
    "# **<span style=\"color:#3c1518\">Confusion Matrix</span>**"
   ]
  },
  {
   "attachments": {},
   "cell_type": "markdown",
   "metadata": {},
   "source": [
    "## <span style=\"color:#69140e\">Best Clustering Algorithm</span>"
   ]
  },
  {
   "cell_type": "code",
   "execution_count": null,
   "metadata": {},
   "outputs": [],
   "source": [
    "disp = confMatrix['Confusion Matrix Settings'].loc[((metrics['ARI']+metrics['AMI']+metrics['V-measure'])/3).idxmax()]\n",
    "alg = confMatrix['Clustering Algorithm'].loc[((metrics['ARI']+metrics['AMI']+metrics['V-measure'])/3).idxmax()]\n",
    "disp.plot()\n",
    "plt.gcf().set_size_inches(13,8)\n",
    "plt.title(alg)\n",
    "plt.show()"
   ]
  },
  {
   "attachments": {},
   "cell_type": "markdown",
   "metadata": {},
   "source": [
    "## <span style=\"color:#69140e\">Worst Clustering Algorithm</span>"
   ]
  },
  {
   "cell_type": "code",
   "execution_count": null,
   "metadata": {},
   "outputs": [],
   "source": [
    "disp = confMatrix['Confusion Matrix Settings'].loc[((metrics['ARI']+metrics['AMI']+metrics['V-measure'])/3).idxmin()]\n",
    "alg = confMatrix['Clustering Algorithm'].loc[((metrics['ARI']+metrics['AMI']+metrics['V-measure'])/3).idxmin()]\n",
    "disp.plot()\n",
    "plt.gcf().set_size_inches(13,8)\n",
    "plt.title(alg)\n",
    "plt.show()"
   ]
  },
  {
   "attachments": {},
   "cell_type": "markdown",
   "metadata": {},
   "source": [
    "# **<span style=\"color:#3c1518\">Proposed Clustering Algorithm</span>**"
   ]
  },
  {
   "attachments": {},
   "cell_type": "markdown",
   "metadata": {},
   "source": [
    "### <span style=\"color:#69140e\">The proposed Clustering Algorithm for this problem is GMM</span>"
   ]
  },
  {
   "attachments": {},
   "cell_type": "markdown",
   "metadata": {},
   "source": [
    "# **<span style=\"color:#3c1518\">Big Dataset</span>**"
   ]
  },
  {
   "cell_type": "code",
   "execution_count": null,
   "metadata": {},
   "outputs": [],
   "source": [
    "github = \"https://raw.githubusercontent.com/gagolews/clustering-data-v1/master/\"\n",
    "\n",
    "dataset = \"g2mg/g2mg_128_80\" # Change dataset here \n",
    "data_url = github + dataset + \".data.gz\"\n",
    "labels_url = github + dataset + \".labels0.gz\"\n",
    "\n",
    "response = requests.get(data_url)\n",
    "open(\"datasetBig.gz\", \"wb\").write(response.content)\n",
    "response = requests.get(labels_url)\n",
    "open(\"labelsBig.gz\", \"wb\").write(response.content)\n",
    "\n",
    "X = np.loadtxt(\"datasetBig.gz\", ndmin=2)\n",
    "y = np.loadtxt(\"labelsBig.gz\", dtype=np.intc)-1\n",
    "n_clusters = len(np.unique(y))\n",
    "\n",
    "metricsBigDataset = pd.DataFrame(columns=['Clustering Algorithm', 'ARI', 'AMI', 'V-measure','Fit Predict Time'])\n",
    "confMatrixBigDataset = pd.DataFrame(columns=['Clustering Algorithm', 'Confusion Matrix Settings'])"
   ]
  },
  {
   "attachments": {},
   "cell_type": "markdown",
   "metadata": {},
   "source": [
    "## <span style=\"color:#69140e\">K-Means</span>"
   ]
  },
  {
   "cell_type": "code",
   "execution_count": null,
   "metadata": {},
   "outputs": [],
   "source": [
    "clStr = 'K-Means'\n",
    "cl = KMeans(n_clusters=2, random_state=0)\n",
    "\n",
    "startTime = time.time()\n",
    "prediction = cl.fit_predict(X)\n",
    "stopTime = time.time()\n",
    "fitPredictTime = stopTime - startTime\n",
    "\n",
    "ari = adjusted_rand_score(y, prediction)\n",
    "ami = adjusted_mutual_info_score(y, prediction)\n",
    "v_measure = v_measure_score(y, prediction)\n",
    "\n",
    "if not (clStr in metricsBigDataset['Clustering Algorithm'].unique()):\n",
    "    metricsBigDataset.loc[len(metricsBigDataset)] = [clStr, ari, ami, v_measure, fitPredictTime]\n",
    "else:\n",
    "    index = metricsBigDataset[metricsBigDataset['Clustering Algorithm']== clStr].index.to_list()[0] \n",
    "    metricsBigDataset.loc[index] = [clStr, ari, ami, v_measure, fitPredictTime]\n",
    "\n",
    "cm = confusion_matrix(y, prediction, labels=[0,1])\n",
    "disp = ConfusionMatrixDisplay(confusion_matrix=cm,display_labels=[0,1])\n",
    "\n",
    "if not (clStr in confMatrixBigDataset['Clustering Algorithm'].unique()):\n",
    "    confMatrixBigDataset.loc[len(metricsBigDataset)] = [clStr, disp]\n",
    "else:\n",
    "    index = confMatrixBigDataset[confMatrixBigDataset['Clustering Algorithm']== clStr].index.to_list()[0] \n",
    "    confMatrixBigDataset.loc[index] = [clStr, disp]\n"
   ]
  },
  {
   "attachments": {},
   "cell_type": "markdown",
   "metadata": {},
   "source": [
    "## <span style=\"color:#69140e\">HAC</span>"
   ]
  },
  {
   "cell_type": "code",
   "execution_count": null,
   "metadata": {},
   "outputs": [],
   "source": [
    "clStr = 'HAC'\n",
    "cl = AgglomerativeClustering(n_clusters= 2)\n",
    "\n",
    "startTime = time.time()\n",
    "prediction = cl.fit_predict(X)\n",
    "stopTime = time.time()\n",
    "fitPredictTime = stopTime - startTime\n",
    "\n",
    "ari = adjusted_rand_score(y, prediction)\n",
    "ami = adjusted_mutual_info_score(y, prediction)\n",
    "v_measure = v_measure_score(y, prediction)\n",
    "\n",
    "if not (clStr in metricsBigDataset['Clustering Algorithm'].unique()):\n",
    "    metricsBigDataset.loc[len(metricsBigDataset)] = [clStr, ari, ami, v_measure, fitPredictTime]\n",
    "else:\n",
    "    index = metricsBigDataset[metricsBigDataset['Clustering Algorithm']== clStr].index.to_list()[0] \n",
    "    metricsBigDataset.loc[index] = [clStr, ari, ami, v_measure, fitPredictTime]\n",
    "\n",
    "cm = confusion_matrix(y, prediction, labels=[0,1])\n",
    "disp = ConfusionMatrixDisplay(confusion_matrix=cm,display_labels=[0,1])\n",
    "\n",
    "if not (clStr in confMatrixBigDataset['Clustering Algorithm'].unique()):\n",
    "    confMatrixBigDataset.loc[len(metricsBigDataset)] = [clStr, disp]\n",
    "else:\n",
    "    index = confMatrixBigDataset[confMatrixBigDataset['Clustering Algorithm']== clStr].index.to_list()[0] \n",
    "    confMatrixBigDataset.loc[index] = [clStr, disp]\n",
    "    "
   ]
  },
  {
   "attachments": {},
   "cell_type": "markdown",
   "metadata": {},
   "source": [
    "## <span style=\"color:#69140e\">GMM</span>"
   ]
  },
  {
   "cell_type": "code",
   "execution_count": null,
   "metadata": {},
   "outputs": [],
   "source": [
    "clStr = 'GMM'\n",
    "cl = GaussianMixture(n_components=2, random_state=0)\n",
    "\n",
    "startTime = time.time()\n",
    "prediction = cl.fit_predict(X)\n",
    "stopTime = time.time()\n",
    "fitPredictTime = stopTime - startTime\n",
    "\n",
    "ari = adjusted_rand_score(y, prediction)\n",
    "ami = adjusted_mutual_info_score(y, prediction)\n",
    "v_measure = v_measure_score(y, prediction)\n",
    "\n",
    "if not (clStr in metricsBigDataset['Clustering Algorithm'].unique()):\n",
    "    metricsBigDataset.loc[len(metricsBigDataset)] = [clStr, ari, ami, v_measure, fitPredictTime]\n",
    "else:\n",
    "    index = metricsBigDataset[metricsBigDataset['Clustering Algorithm']== clStr].index.to_list()[0] \n",
    "    metricsBigDataset.loc[index] = [clStr, ari, ami, v_measure, fitPredictTime]\n",
    "\n",
    "cm = confusion_matrix(y, prediction, labels=[0,1])\n",
    "disp = ConfusionMatrixDisplay(confusion_matrix=cm,display_labels=[0,1])\n",
    "\n",
    "if not (clStr in confMatrixBigDataset['Clustering Algorithm'].unique()):\n",
    "    confMatrixBigDataset.loc[len(metricsBigDataset)] = [clStr, disp]\n",
    "else:\n",
    "    index = confMatrixBigDataset[confMatrixBigDataset['Clustering Algorithm']== clStr].index.to_list()[0] \n",
    "    confMatrixBigDataset.loc[index] = [clStr, disp]  \n"
   ]
  },
  {
   "attachments": {},
   "cell_type": "markdown",
   "metadata": {},
   "source": [
    "## <span style=\"color:#69140e\">DBSCAN</span>"
   ]
  },
  {
   "cell_type": "code",
   "execution_count": null,
   "metadata": {},
   "outputs": [],
   "source": [
    "clStr = 'DBSCAN'\n",
    "cl = DBSCAN()\n",
    "\n",
    "startTime = time.time()\n",
    "prediction = cl.fit_predict(X)\n",
    "stopTime = time.time()\n",
    "fitPredictTime = stopTime - startTime\n",
    "\n",
    "ari = adjusted_rand_score(y, prediction)\n",
    "ami = adjusted_mutual_info_score(y, prediction)\n",
    "v_measure = v_measure_score(y, prediction)\n",
    "\n",
    "if not (clStr in metricsBigDataset['Clustering Algorithm'].unique()):\n",
    "    metricsBigDataset.loc[len(metricsBigDataset)] = [clStr, ari, ami, v_measure, fitPredictTime]\n",
    "else:\n",
    "    index = metricsBigDataset[metricsBigDataset['Clustering Algorithm']== clStr].index.to_list()[0] \n",
    "    metricsBigDataset.loc[index] = [clStr, ari, ami, v_measure, fitPredictTime]\n",
    "\n",
    "cm = confusion_matrix(y, prediction, labels=[0,1])\n",
    "disp = ConfusionMatrixDisplay(confusion_matrix=cm,display_labels=[0,1])\n",
    "\n",
    "if not (clStr in confMatrixBigDataset['Clustering Algorithm'].unique()):\n",
    "    confMatrixBigDataset.loc[len(metricsBigDataset)] = [clStr, disp]\n",
    "else:\n",
    "    index = confMatrixBigDataset[confMatrixBigDataset['Clustering Algorithm']== clStr].index.to_list()[0] \n",
    "    confMatrixBigDataset.loc[index] = [clStr, disp]\n"
   ]
  },
  {
   "attachments": {},
   "cell_type": "markdown",
   "metadata": {},
   "source": [
    "## <span style=\"color:#69140e\">HDBSCAN</span>"
   ]
  },
  {
   "cell_type": "code",
   "execution_count": null,
   "metadata": {},
   "outputs": [],
   "source": [
    "clStr = 'HDBSCAN'\n",
    "cl = hdbscan.HDBSCAN(min_cluster_size=2, min_samples= 350)\n",
    "\n",
    "startTime = time.time()\n",
    "prediction = cl.fit_predict(X)\n",
    "stopTime = time.time()\n",
    "fitPredictTime = stopTime - startTime\n",
    "\n",
    "ari = adjusted_rand_score(y, prediction)\n",
    "ami = adjusted_mutual_info_score(y, prediction)\n",
    "v_measure = v_measure_score(y, prediction)\n",
    "\n",
    "if not (clStr in metricsBigDataset['Clustering Algorithm'].unique()):\n",
    "    metricsBigDataset.loc[len(metricsBigDataset)] = [clStr, ari, ami, v_measure, fitPredictTime]\n",
    "else:\n",
    "    index = metricsBigDataset[metricsBigDataset['Clustering Algorithm']== clStr].index.to_list()[0] \n",
    "    metricsBigDataset.loc[index] = [clStr, ari, ami, v_measure, fitPredictTime]\n",
    "\n",
    "cm = confusion_matrix(y, prediction, labels=[0,1])\n",
    "disp = ConfusionMatrixDisplay(confusion_matrix=cm,display_labels=[0,1])\n",
    "\n",
    "if not (clStr in confMatrixBigDataset['Clustering Algorithm'].unique()):\n",
    "    confMatrixBigDataset.loc[len(metricsBigDataset)] = [clStr, disp]\n",
    "else:\n",
    "    index = confMatrixBigDataset[confMatrixBigDataset['Clustering Algorithm']== clStr].index.to_list()[0] \n",
    "    confMatrixBigDataset.loc[index] = [clStr, disp]\n"
   ]
  },
  {
   "attachments": {},
   "cell_type": "markdown",
   "metadata": {},
   "source": [
    "## <span style=\"color:#69140e\">SOM</span>"
   ]
  },
  {
   "cell_type": "code",
   "execution_count": null,
   "metadata": {},
   "outputs": [],
   "source": [
    "clStr = 'SOM'\n",
    "cl = SOM(m=3, n=3, dim=128)\n",
    "\n",
    "startTime = time.time()\n",
    "prediction = cl.fit_predict(X)\n",
    "stopTime = time.time()\n",
    "fitPredictTime = stopTime - startTime\n",
    "\n",
    "ari = adjusted_rand_score(y, prediction)\n",
    "ami = adjusted_mutual_info_score(y, prediction)\n",
    "v_measure = v_measure_score(y, prediction)\n",
    "\n",
    "if not (clStr in metricsBigDataset['Clustering Algorithm'].unique()):\n",
    "    metricsBigDataset.loc[len(metricsBigDataset)] = [clStr, ari, ami, v_measure, fitPredictTime]\n",
    "else:\n",
    "    index = metricsBigDataset[metricsBigDataset['Clustering Algorithm']== clStr].index.to_list()[0] \n",
    "    metricsBigDataset.loc[index] = [clStr, ari, ami, v_measure, fitPredictTime]\n",
    "\n",
    "cm = confusion_matrix(y, prediction, labels=[0,1])\n",
    "disp = ConfusionMatrixDisplay(confusion_matrix=cm,display_labels=[0,1])\n",
    "\n",
    "if not (clStr in confMatrixBigDataset['Clustering Algorithm'].unique()):\n",
    "    confMatrixBigDataset.loc[len(metricsBigDataset)] = [clStr, disp]\n",
    "else:\n",
    "    index = confMatrixBigDataset[confMatrixBigDataset['Clustering Algorithm']== clStr].index.to_list()[0] \n",
    "    confMatrixBigDataset.loc[index] = [clStr, disp]\n"
   ]
  },
  {
   "cell_type": "code",
   "execution_count": null,
   "metadata": {},
   "outputs": [],
   "source": [
    "# Reset confMatrixBigDataset index\n",
    "confMatrixBigDataset.reset_index(drop= True, inplace= True)"
   ]
  },
  {
   "attachments": {},
   "cell_type": "markdown",
   "metadata": {},
   "source": [
    "# **<span style=\"color:#3c1518\">Results</span>**"
   ]
  },
  {
   "cell_type": "code",
   "execution_count": null,
   "metadata": {},
   "outputs": [],
   "source": [
    "metricsBigDataset"
   ]
  },
  {
   "attachments": {},
   "cell_type": "markdown",
   "metadata": {},
   "source": [
    "# **<span style=\"color:#3c1518\">Confusion Matrices</span>**"
   ]
  },
  {
   "attachments": {},
   "cell_type": "markdown",
   "metadata": {},
   "source": [
    "## <span style=\"color:#69140e\">Best Clustering Algorithm</span>"
   ]
  },
  {
   "cell_type": "code",
   "execution_count": null,
   "metadata": {},
   "outputs": [],
   "source": [
    "disp = confMatrixBigDataset['Confusion Matrix Settings'].loc[((metricsBigDataset['ARI']+metricsBigDataset['AMI']+metricsBigDataset['V-measure'])/3).idxmax()]\n",
    "alg = confMatrixBigDataset['Clustering Algorithm'].loc[((metricsBigDataset['ARI']+metricsBigDataset['AMI']+metricsBigDataset['V-measure'])/3).idxmax()]\n",
    "disp.plot()\n",
    "plt.gcf().set_size_inches(13,8)\n",
    "plt.title(alg)\n",
    "plt.show()"
   ]
  },
  {
   "attachments": {},
   "cell_type": "markdown",
   "metadata": {},
   "source": [
    "## <span style=\"color:#69140e\">Worst Clustering Algorithm</span>"
   ]
  },
  {
   "cell_type": "code",
   "execution_count": null,
   "metadata": {},
   "outputs": [],
   "source": [
    "disp = confMatrixBigDataset['Confusion Matrix Settings'].loc[((metricsBigDataset['ARI']+metricsBigDataset['AMI']+metricsBigDataset['V-measure'])/3).idxmin()]\n",
    "alg = confMatrixBigDataset['Clustering Algorithm'].loc[((metricsBigDataset['ARI']+metricsBigDataset['AMI']+metricsBigDataset['V-measure'])/3).idxmin()]\n",
    "disp.plot()\n",
    "plt.gcf().set_size_inches(13,8)\n",
    "plt.title(alg)\n",
    "plt.show()"
   ]
  },
  {
   "attachments": {},
   "cell_type": "markdown",
   "metadata": {},
   "source": [
    "# **<span style=\"color:#3c1518\">Proposed Clustering Algorithm</span>**"
   ]
  },
  {
   "attachments": {},
   "cell_type": "markdown",
   "metadata": {},
   "source": [
    "### <span style=\"color:#69140e\">The proposed Clustering Algorithm for this problem is K - Means</span>"
   ]
  }
 ],
 "metadata": {
  "kernelspec": {
   "display_name": "base",
   "language": "python",
   "name": "python3"
  },
  "language_info": {
   "codemirror_mode": {
    "name": "ipython",
    "version": 3
   },
   "file_extension": ".py",
   "mimetype": "text/x-python",
   "name": "python",
   "nbconvert_exporter": "python",
   "pygments_lexer": "ipython3",
   "version": "3.9.12"
  },
  "orig_nbformat": 4,
  "vscode": {
   "interpreter": {
    "hash": "846e9557d80d190f9a7f4ea8a91daae54d434e9bf57f1dd575644ba6159713e0"
   }
  }
 },
 "nbformat": 4,
 "nbformat_minor": 2
}
