{
 "cells": [
  {
   "cell_type": "code",
   "execution_count": null,
   "metadata": {},
   "outputs": [],
   "source": [
    "import numpy as np\n",
    "import requests\n",
    "import pandas as pd\n",
    "import matplotlib.pyplot as plt\n",
    "import genieclust\n",
    "from sklearn.cluster import KMeans\n",
    "from sklearn.metrics.cluster import adjusted_mutual_info_score, adjusted_rand_score, v_measure_score"
   ]
  },
  {
   "attachments": {},
   "cell_type": "markdown",
   "metadata": {},
   "source": [
    "# **<span style=\"color:#3c1518\">2D Dataset</span>**"
   ]
  },
  {
   "cell_type": "code",
   "execution_count": null,
   "metadata": {},
   "outputs": [],
   "source": [
    "github = \"https://raw.githubusercontent.com/gagolews/clustering-data-v1/master/\"\n",
    "\n",
    "dataset = \"fcps/engytime\" # Change dataset here \n",
    "data_url = github + dataset + \".data.gz\"\n",
    "labels_url = github + dataset + \".labels0.gz\"\n",
    "\n",
    "response = requests.get(data_url)\n",
    "open(\"dataset.gz\", \"wb\").write(response.content)\n",
    "response = requests.get(labels_url)\n",
    "open(\"labels.gz\", \"wb\").write(response.content)\n",
    "\n",
    "X = np.loadtxt(\"dataset.gz\", ndmin=2)\n",
    "y = np.loadtxt(\"labels.gz\", dtype=np.intc)-1\n",
    "n_clusters = len(np.unique(y))\n",
    "\n",
    "metrics = pd.DataFrame(columns=['Clustering Algorithm', 'ARI', 'AMI', 'V-measure'])"
   ]
  },
  {
   "attachments": {},
   "cell_type": "markdown",
   "metadata": {},
   "source": [
    "## <span style=\"color:#69140e\">K-Means</span>"
   ]
  },
  {
   "cell_type": "code",
   "execution_count": null,
   "metadata": {},
   "outputs": [],
   "source": [
    "clStr = 'K-Means'\n",
    "cl = KMeans(n_clusters=2, random_state=0)\n",
    "X = pd.DataFrame(X).astype(float)\n",
    "cl.fit(X)\n",
    "prediction = cl.predict(X)\n",
    "\n",
    "ari = adjusted_rand_score(y, prediction)\n",
    "ami = adjusted_mutual_info_score(y, prediction)\n",
    "v_measure = v_measure_score(y, prediction)\n",
    "\n",
    "if not (clStr in metrics['Clustering Algorithm'].unique()):\n",
    "    metrics.loc[len(metrics)] = [clStr, ari, ami, v_measure]\n",
    "else:\n",
    "    index = metrics[metrics['Clustering Algorithm']== clStr].index.to_list()[0] \n",
    "    metrics.loc[index] = [clStr, ari, ami, v_measure]\n",
    "\n",
    "genieclust.plots.plot_scatter(X, labels=y)\n",
    "plt.title(\"True Clusters\")\n",
    "plt.axis(\"equal\")\n",
    "plt.show()\n",
    "\n",
    "genieclust.plots.plot_scatter(X, labels=prediction)\n",
    "plt.title(\"Predicted Clusters\") \n",
    "plt.axis(\"equal\")\n",
    "plt.show()"
   ]
  },
  {
   "attachments": {},
   "cell_type": "markdown",
   "metadata": {},
   "source": [
    "## <span style=\"color:#69140e\">HAC</span>"
   ]
  },
  {
   "cell_type": "code",
   "execution_count": null,
   "metadata": {},
   "outputs": [],
   "source": []
  }
 ],
 "metadata": {
  "kernelspec": {
   "display_name": "base",
   "language": "python",
   "name": "python3"
  },
  "language_info": {
   "codemirror_mode": {
    "name": "ipython",
    "version": 3
   },
   "file_extension": ".py",
   "mimetype": "text/x-python",
   "name": "python",
   "nbconvert_exporter": "python",
   "pygments_lexer": "ipython3",
   "version": "3.9.12"
  },
  "orig_nbformat": 4,
  "vscode": {
   "interpreter": {
    "hash": "846e9557d80d190f9a7f4ea8a91daae54d434e9bf57f1dd575644ba6159713e0"
   }
  }
 },
 "nbformat": 4,
 "nbformat_minor": 2
}
