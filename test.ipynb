{
 "cells": [
  {
   "cell_type": "code",
   "execution_count": 15,
   "metadata": {},
   "outputs": [],
   "source": [
    "import openml\n",
    "import pandas as pd\n",
    "import plotly.express as px \n",
    "import time\n",
    "from sklearn.utils import shuffle\n",
    "from sklearn.dummy import DummyClassifier\n",
    "from sklearn.metrics import f1_score\n",
    "from sklearn.model_selection import KFold \n",
    "from sklearn.naive_bayes import GaussianNB\n",
    "from sklearn.neighbors import KNeighborsClassifier\n",
    "from sklearn.linear_model import LogisticRegression\n",
    "from sklearn.neural_network import MLPClassifier\n",
    "from sklearn.svm import SVC\n",
    "from sklearn.experimental import enable_halving_search_cv\n",
    "from sklearn.model_selection import HalvingGridSearchCV\n",
    "from sklearn.preprocessing import StandardScaler\n",
    "from sklearn.pipeline import Pipeline\n",
    "from sklearn.model_selection import GridSearchCV"
   ]
  },
  {
   "cell_type": "code",
   "execution_count": null,
   "metadata": {},
   "outputs": [],
   "source": [
    "# List all datasets and their properties\n",
    "openml.datasets.list_datasets(output_format=\"dataframe\")\n",
    "\n",
    "# Get dataset by ID\n",
    "dataset = openml.datasets.get_dataset(1476)\n",
    "\n",
    "# Get the data itself as a dataframe (or otherwise)\n",
    "X, _, _, _ = dataset.get_data(dataset_format=\"dataframe\")"
   ]
  },
  {
   "attachments": {},
   "cell_type": "markdown",
   "metadata": {},
   "source": [
    "# **<span style=\"color:#3c1518\">Questions</span>**\n",
    "\n",
    "### <span style=\"color:#69140e\">Answer to question 1: </span>\n",
    "\n",
    "<span style=\"color:#a44200\">This archive contains 13910 measurements from 16 chemical sensors utilized in simulations for drift compensation in a discrimination task of 6 gases at various levels of concentrations.\n",
    "The goal is to achieve good performance (or as low degradation as possible) over time, as reported in the paper mentioned below in Section 2: Data collection.\n",
    "The primary purpose of providing this dataset is to make it freely accessible online to the chemo-sensor research community and artificial intelligence to develop strategies to cope with sensor/concept drift. The dataset can be used exclusively for research purposes. Commercial purposes are fully excluded.\n",
    "The dataset was gathered within January 2007 to February 2011 (36 months) in a gas delivery platform facility situated at the ChemoSignals Laboratory in the BioCircuits Institute, University of California San Diego.\n",
    "Being completely operated by a fully computerized environment controlled by a LabVIEW's National Instruments software on a PC fitted with the appropriate serial data acquisition boards. The measurement system platform provides versatility for obtaining the desired concentrations of the chemical substances of interest with high accuracy and in a highly reproducible manner, minimizing thereby the common mistakes caused by human intervention and making it possible to exclusively concentrate on the chemical sensors for compensating real drift.\n",
    "The resulting dataset comprises recordings from six distinct pure gaseous substances, namely Ammonia, Acetaldehyde, Acetone, Ethylene, Ethanol, and Toluene, each dosed at a wide variety of concentration values ranging from 5 to 1000 ppmv</span>\n",
    "\n",
    "### <span style=\"color:#69140e\">Answer to question 2: </span>\n",
    "\n",
    "<span style=\"color:#a44200\">There was no need to make any changes in order to import the dataset.</span>\n",
    "\n",
    "### <span style=\"color:#69140e\">Answer to question 3: </span>\n",
    "\n",
    "<span style=\"color:#a44200\"></span>"
   ]
  },
  {
   "attachments": {},
   "cell_type": "markdown",
   "metadata": {},
   "source": [
    "# **<span style=\"color:#3c1518\">Preparation of the Dataset</span>**"
   ]
  },
  {
   "cell_type": "code",
   "execution_count": null,
   "metadata": {},
   "outputs": [],
   "source": [
    "X = X.astype('int64')\n",
    "y = X['Class']\n",
    "X = X.drop(columns=['Class'])\n",
    "X,y = shuffle(X,y,random_state=0)\n",
    "X = X.reset_index(drop= True)\n",
    "y = y.reset_index(drop= True)"
   ]
  },
  {
   "attachments": {},
   "cell_type": "markdown",
   "metadata": {},
   "source": [
    "## <span style=\"color:#69140e\">Train - Test Split </span>"
   ]
  },
  {
   "cell_type": "code",
   "execution_count": null,
   "metadata": {},
   "outputs": [],
   "source": [
    "Xtrain = X[0:int(0.7*len(X))]\n",
    "Xtest = X[int(0.7*len(X))+1:]\n",
    "ytrain = y[0:int(0.7*len(X))]\n",
    "ytest = y[int(0.7*len(X))+1:]"
   ]
  },
  {
   "cell_type": "code",
   "execution_count": null,
   "metadata": {},
   "outputs": [],
   "source": [
    "metrics = pd.DataFrame(columns=['Classifier','Mean Accuracy', 'F1 Score'])"
   ]
  },
  {
   "attachments": {},
   "cell_type": "markdown",
   "metadata": {},
   "source": [
    "# **<span style=\"color:#3c1518\">Classifiers</span>**"
   ]
  },
  {
   "attachments": {},
   "cell_type": "markdown",
   "metadata": {},
   "source": [
    "## <span style=\"color:#69140e\">Dummy Classifier</span>"
   ]
  },
  {
   "cell_type": "code",
   "execution_count": 22,
   "metadata": {},
   "outputs": [
    {
     "data": {
      "application/vnd.plotly.v1+json": {
       "config": {
        "plotlyServerURL": "https://plot.ly"
       },
       "data": [
        {
         "alignmentgroup": "True",
         "hovertemplate": "variable=0<br>index=%{x}<br>value=%{y}<extra></extra>",
         "legendgroup": "0",
         "marker": {
          "color": "#a44200",
          "line": {
           "color": "rgb(8,48,107)",
           "width": 1
          },
          "pattern": {
           "shape": ""
          }
         },
         "name": "0",
         "offsetgroup": "0",
         "orientation": "v",
         "showlegend": true,
         "textposition": "auto",
         "type": "bar",
         "x": [
          0,
          1,
          2,
          3,
          4,
          5,
          6,
          7,
          8,
          9
         ],
         "xaxis": "x",
         "y": [
          0.16940451745379878,
          0.16837782340862423,
          0.14271047227926079,
          0.1591375770020534,
          0.16632443531827515,
          0.17145790554414783,
          0.13963039014373715,
          0.17882836587872558,
          0.17266187050359713,
          0.17677286742034942
         ],
         "yaxis": "y"
        }
       ],
       "layout": {
        "barmode": "relative",
        "font": {
         "color": "#3c1518",
         "family": "Verdana, monospace",
         "size": 18
        },
        "legend": {
         "title": {
          "text": "variable"
         },
         "tracegroupgap": 0
        },
        "template": {
         "data": {
          "bar": [
           {
            "error_x": {
             "color": "#2a3f5f"
            },
            "error_y": {
             "color": "#2a3f5f"
            },
            "marker": {
             "line": {
              "color": "#E5ECF6",
              "width": 0.5
             },
             "pattern": {
              "fillmode": "overlay",
              "size": 10,
              "solidity": 0.2
             }
            },
            "type": "bar"
           }
          ],
          "barpolar": [
           {
            "marker": {
             "line": {
              "color": "#E5ECF6",
              "width": 0.5
             },
             "pattern": {
              "fillmode": "overlay",
              "size": 10,
              "solidity": 0.2
             }
            },
            "type": "barpolar"
           }
          ],
          "carpet": [
           {
            "aaxis": {
             "endlinecolor": "#2a3f5f",
             "gridcolor": "white",
             "linecolor": "white",
             "minorgridcolor": "white",
             "startlinecolor": "#2a3f5f"
            },
            "baxis": {
             "endlinecolor": "#2a3f5f",
             "gridcolor": "white",
             "linecolor": "white",
             "minorgridcolor": "white",
             "startlinecolor": "#2a3f5f"
            },
            "type": "carpet"
           }
          ],
          "choropleth": [
           {
            "colorbar": {
             "outlinewidth": 0,
             "ticks": ""
            },
            "type": "choropleth"
           }
          ],
          "contour": [
           {
            "colorbar": {
             "outlinewidth": 0,
             "ticks": ""
            },
            "colorscale": [
             [
              0,
              "#0d0887"
             ],
             [
              0.1111111111111111,
              "#46039f"
             ],
             [
              0.2222222222222222,
              "#7201a8"
             ],
             [
              0.3333333333333333,
              "#9c179e"
             ],
             [
              0.4444444444444444,
              "#bd3786"
             ],
             [
              0.5555555555555556,
              "#d8576b"
             ],
             [
              0.6666666666666666,
              "#ed7953"
             ],
             [
              0.7777777777777778,
              "#fb9f3a"
             ],
             [
              0.8888888888888888,
              "#fdca26"
             ],
             [
              1,
              "#f0f921"
             ]
            ],
            "type": "contour"
           }
          ],
          "contourcarpet": [
           {
            "colorbar": {
             "outlinewidth": 0,
             "ticks": ""
            },
            "type": "contourcarpet"
           }
          ],
          "heatmap": [
           {
            "colorbar": {
             "outlinewidth": 0,
             "ticks": ""
            },
            "colorscale": [
             [
              0,
              "#0d0887"
             ],
             [
              0.1111111111111111,
              "#46039f"
             ],
             [
              0.2222222222222222,
              "#7201a8"
             ],
             [
              0.3333333333333333,
              "#9c179e"
             ],
             [
              0.4444444444444444,
              "#bd3786"
             ],
             [
              0.5555555555555556,
              "#d8576b"
             ],
             [
              0.6666666666666666,
              "#ed7953"
             ],
             [
              0.7777777777777778,
              "#fb9f3a"
             ],
             [
              0.8888888888888888,
              "#fdca26"
             ],
             [
              1,
              "#f0f921"
             ]
            ],
            "type": "heatmap"
           }
          ],
          "heatmapgl": [
           {
            "colorbar": {
             "outlinewidth": 0,
             "ticks": ""
            },
            "colorscale": [
             [
              0,
              "#0d0887"
             ],
             [
              0.1111111111111111,
              "#46039f"
             ],
             [
              0.2222222222222222,
              "#7201a8"
             ],
             [
              0.3333333333333333,
              "#9c179e"
             ],
             [
              0.4444444444444444,
              "#bd3786"
             ],
             [
              0.5555555555555556,
              "#d8576b"
             ],
             [
              0.6666666666666666,
              "#ed7953"
             ],
             [
              0.7777777777777778,
              "#fb9f3a"
             ],
             [
              0.8888888888888888,
              "#fdca26"
             ],
             [
              1,
              "#f0f921"
             ]
            ],
            "type": "heatmapgl"
           }
          ],
          "histogram": [
           {
            "marker": {
             "pattern": {
              "fillmode": "overlay",
              "size": 10,
              "solidity": 0.2
             }
            },
            "type": "histogram"
           }
          ],
          "histogram2d": [
           {
            "colorbar": {
             "outlinewidth": 0,
             "ticks": ""
            },
            "colorscale": [
             [
              0,
              "#0d0887"
             ],
             [
              0.1111111111111111,
              "#46039f"
             ],
             [
              0.2222222222222222,
              "#7201a8"
             ],
             [
              0.3333333333333333,
              "#9c179e"
             ],
             [
              0.4444444444444444,
              "#bd3786"
             ],
             [
              0.5555555555555556,
              "#d8576b"
             ],
             [
              0.6666666666666666,
              "#ed7953"
             ],
             [
              0.7777777777777778,
              "#fb9f3a"
             ],
             [
              0.8888888888888888,
              "#fdca26"
             ],
             [
              1,
              "#f0f921"
             ]
            ],
            "type": "histogram2d"
           }
          ],
          "histogram2dcontour": [
           {
            "colorbar": {
             "outlinewidth": 0,
             "ticks": ""
            },
            "colorscale": [
             [
              0,
              "#0d0887"
             ],
             [
              0.1111111111111111,
              "#46039f"
             ],
             [
              0.2222222222222222,
              "#7201a8"
             ],
             [
              0.3333333333333333,
              "#9c179e"
             ],
             [
              0.4444444444444444,
              "#bd3786"
             ],
             [
              0.5555555555555556,
              "#d8576b"
             ],
             [
              0.6666666666666666,
              "#ed7953"
             ],
             [
              0.7777777777777778,
              "#fb9f3a"
             ],
             [
              0.8888888888888888,
              "#fdca26"
             ],
             [
              1,
              "#f0f921"
             ]
            ],
            "type": "histogram2dcontour"
           }
          ],
          "mesh3d": [
           {
            "colorbar": {
             "outlinewidth": 0,
             "ticks": ""
            },
            "type": "mesh3d"
           }
          ],
          "parcoords": [
           {
            "line": {
             "colorbar": {
              "outlinewidth": 0,
              "ticks": ""
             }
            },
            "type": "parcoords"
           }
          ],
          "pie": [
           {
            "automargin": true,
            "type": "pie"
           }
          ],
          "scatter": [
           {
            "marker": {
             "colorbar": {
              "outlinewidth": 0,
              "ticks": ""
             }
            },
            "type": "scatter"
           }
          ],
          "scatter3d": [
           {
            "line": {
             "colorbar": {
              "outlinewidth": 0,
              "ticks": ""
             }
            },
            "marker": {
             "colorbar": {
              "outlinewidth": 0,
              "ticks": ""
             }
            },
            "type": "scatter3d"
           }
          ],
          "scattercarpet": [
           {
            "marker": {
             "colorbar": {
              "outlinewidth": 0,
              "ticks": ""
             }
            },
            "type": "scattercarpet"
           }
          ],
          "scattergeo": [
           {
            "marker": {
             "colorbar": {
              "outlinewidth": 0,
              "ticks": ""
             }
            },
            "type": "scattergeo"
           }
          ],
          "scattergl": [
           {
            "marker": {
             "colorbar": {
              "outlinewidth": 0,
              "ticks": ""
             }
            },
            "type": "scattergl"
           }
          ],
          "scattermapbox": [
           {
            "marker": {
             "colorbar": {
              "outlinewidth": 0,
              "ticks": ""
             }
            },
            "type": "scattermapbox"
           }
          ],
          "scatterpolar": [
           {
            "marker": {
             "colorbar": {
              "outlinewidth": 0,
              "ticks": ""
             }
            },
            "type": "scatterpolar"
           }
          ],
          "scatterpolargl": [
           {
            "marker": {
             "colorbar": {
              "outlinewidth": 0,
              "ticks": ""
             }
            },
            "type": "scatterpolargl"
           }
          ],
          "scatterternary": [
           {
            "marker": {
             "colorbar": {
              "outlinewidth": 0,
              "ticks": ""
             }
            },
            "type": "scatterternary"
           }
          ],
          "surface": [
           {
            "colorbar": {
             "outlinewidth": 0,
             "ticks": ""
            },
            "colorscale": [
             [
              0,
              "#0d0887"
             ],
             [
              0.1111111111111111,
              "#46039f"
             ],
             [
              0.2222222222222222,
              "#7201a8"
             ],
             [
              0.3333333333333333,
              "#9c179e"
             ],
             [
              0.4444444444444444,
              "#bd3786"
             ],
             [
              0.5555555555555556,
              "#d8576b"
             ],
             [
              0.6666666666666666,
              "#ed7953"
             ],
             [
              0.7777777777777778,
              "#fb9f3a"
             ],
             [
              0.8888888888888888,
              "#fdca26"
             ],
             [
              1,
              "#f0f921"
             ]
            ],
            "type": "surface"
           }
          ],
          "table": [
           {
            "cells": {
             "fill": {
              "color": "#EBF0F8"
             },
             "line": {
              "color": "white"
             }
            },
            "header": {
             "fill": {
              "color": "#C8D4E3"
             },
             "line": {
              "color": "white"
             }
            },
            "type": "table"
           }
          ]
         },
         "layout": {
          "annotationdefaults": {
           "arrowcolor": "#2a3f5f",
           "arrowhead": 0,
           "arrowwidth": 1
          },
          "autotypenumbers": "strict",
          "coloraxis": {
           "colorbar": {
            "outlinewidth": 0,
            "ticks": ""
           }
          },
          "colorscale": {
           "diverging": [
            [
             0,
             "#8e0152"
            ],
            [
             0.1,
             "#c51b7d"
            ],
            [
             0.2,
             "#de77ae"
            ],
            [
             0.3,
             "#f1b6da"
            ],
            [
             0.4,
             "#fde0ef"
            ],
            [
             0.5,
             "#f7f7f7"
            ],
            [
             0.6,
             "#e6f5d0"
            ],
            [
             0.7,
             "#b8e186"
            ],
            [
             0.8,
             "#7fbc41"
            ],
            [
             0.9,
             "#4d9221"
            ],
            [
             1,
             "#276419"
            ]
           ],
           "sequential": [
            [
             0,
             "#0d0887"
            ],
            [
             0.1111111111111111,
             "#46039f"
            ],
            [
             0.2222222222222222,
             "#7201a8"
            ],
            [
             0.3333333333333333,
             "#9c179e"
            ],
            [
             0.4444444444444444,
             "#bd3786"
            ],
            [
             0.5555555555555556,
             "#d8576b"
            ],
            [
             0.6666666666666666,
             "#ed7953"
            ],
            [
             0.7777777777777778,
             "#fb9f3a"
            ],
            [
             0.8888888888888888,
             "#fdca26"
            ],
            [
             1,
             "#f0f921"
            ]
           ],
           "sequentialminus": [
            [
             0,
             "#0d0887"
            ],
            [
             0.1111111111111111,
             "#46039f"
            ],
            [
             0.2222222222222222,
             "#7201a8"
            ],
            [
             0.3333333333333333,
             "#9c179e"
            ],
            [
             0.4444444444444444,
             "#bd3786"
            ],
            [
             0.5555555555555556,
             "#d8576b"
            ],
            [
             0.6666666666666666,
             "#ed7953"
            ],
            [
             0.7777777777777778,
             "#fb9f3a"
            ],
            [
             0.8888888888888888,
             "#fdca26"
            ],
            [
             1,
             "#f0f921"
            ]
           ]
          },
          "colorway": [
           "#636efa",
           "#EF553B",
           "#00cc96",
           "#ab63fa",
           "#FFA15A",
           "#19d3f3",
           "#FF6692",
           "#B6E880",
           "#FF97FF",
           "#FECB52"
          ],
          "font": {
           "color": "#2a3f5f"
          },
          "geo": {
           "bgcolor": "white",
           "lakecolor": "white",
           "landcolor": "#E5ECF6",
           "showlakes": true,
           "showland": true,
           "subunitcolor": "white"
          },
          "hoverlabel": {
           "align": "left"
          },
          "hovermode": "closest",
          "mapbox": {
           "style": "light"
          },
          "paper_bgcolor": "white",
          "plot_bgcolor": "#E5ECF6",
          "polar": {
           "angularaxis": {
            "gridcolor": "white",
            "linecolor": "white",
            "ticks": ""
           },
           "bgcolor": "#E5ECF6",
           "radialaxis": {
            "gridcolor": "white",
            "linecolor": "white",
            "ticks": ""
           }
          },
          "scene": {
           "xaxis": {
            "backgroundcolor": "#E5ECF6",
            "gridcolor": "white",
            "gridwidth": 2,
            "linecolor": "white",
            "showbackground": true,
            "ticks": "",
            "zerolinecolor": "white"
           },
           "yaxis": {
            "backgroundcolor": "#E5ECF6",
            "gridcolor": "white",
            "gridwidth": 2,
            "linecolor": "white",
            "showbackground": true,
            "ticks": "",
            "zerolinecolor": "white"
           },
           "zaxis": {
            "backgroundcolor": "#E5ECF6",
            "gridcolor": "white",
            "gridwidth": 2,
            "linecolor": "white",
            "showbackground": true,
            "ticks": "",
            "zerolinecolor": "white"
           }
          },
          "shapedefaults": {
           "line": {
            "color": "#2a3f5f"
           }
          },
          "ternary": {
           "aaxis": {
            "gridcolor": "white",
            "linecolor": "white",
            "ticks": ""
           },
           "baxis": {
            "gridcolor": "white",
            "linecolor": "white",
            "ticks": ""
           },
           "bgcolor": "#E5ECF6",
           "caxis": {
            "gridcolor": "white",
            "linecolor": "white",
            "ticks": ""
           }
          },
          "title": {
           "x": 0.05
          },
          "xaxis": {
           "automargin": true,
           "gridcolor": "white",
           "linecolor": "white",
           "ticks": "",
           "title": {
            "standoff": 15
           },
           "zerolinecolor": "white",
           "zerolinewidth": 2
          },
          "yaxis": {
           "automargin": true,
           "gridcolor": "white",
           "linecolor": "white",
           "ticks": "",
           "title": {
            "standoff": 15
           },
           "zerolinecolor": "white",
           "zerolinewidth": 2
          }
         }
        },
        "title": {
         "text": "Accuracy diagram"
        },
        "width": 1000,
        "xaxis": {
         "anchor": "y",
         "domain": [
          0,
          1
         ],
         "title": {
          "text": "Iterations"
         }
        },
        "yaxis": {
         "anchor": "x",
         "domain": [
          0,
          1
         ],
         "title": {
          "text": "Accuracy"
         }
        }
       }
      }
     },
     "metadata": {},
     "output_type": "display_data"
    },
    {
     "data": {
      "application/vnd.plotly.v1+json": {
       "config": {
        "plotlyServerURL": "https://plot.ly"
       },
       "data": [
        {
         "alignmentgroup": "True",
         "hovertemplate": "variable=0<br>index=%{x}<br>value=%{y}<extra></extra>",
         "legendgroup": "0",
         "marker": {
          "color": "#a44200",
          "line": {
           "color": "rgb(8,48,107)",
           "width": 1
          },
          "pattern": {
           "shape": ""
          }
         },
         "name": "0",
         "offsetgroup": "0",
         "orientation": "v",
         "showlegend": true,
         "textposition": "auto",
         "type": "bar",
         "x": [
          0,
          1,
          2,
          3,
          4,
          5,
          6,
          7,
          8,
          9
         ],
         "xaxis": "x",
         "y": [
          0.15727390736596913,
          0.15962014511334402,
          0.1599654223010708,
          0.1777160617290647,
          0.16801480358116283,
          0.15083612725032539,
          0.16029492957719393,
          0.13777145834775015,
          0.16716499769669815,
          0.15496472295995042
         ],
         "yaxis": "y"
        }
       ],
       "layout": {
        "barmode": "relative",
        "font": {
         "color": "#3c1518",
         "family": "Verdana, monospace",
         "size": 18
        },
        "legend": {
         "title": {
          "text": "variable"
         },
         "tracegroupgap": 0
        },
        "template": {
         "data": {
          "bar": [
           {
            "error_x": {
             "color": "#2a3f5f"
            },
            "error_y": {
             "color": "#2a3f5f"
            },
            "marker": {
             "line": {
              "color": "#E5ECF6",
              "width": 0.5
             },
             "pattern": {
              "fillmode": "overlay",
              "size": 10,
              "solidity": 0.2
             }
            },
            "type": "bar"
           }
          ],
          "barpolar": [
           {
            "marker": {
             "line": {
              "color": "#E5ECF6",
              "width": 0.5
             },
             "pattern": {
              "fillmode": "overlay",
              "size": 10,
              "solidity": 0.2
             }
            },
            "type": "barpolar"
           }
          ],
          "carpet": [
           {
            "aaxis": {
             "endlinecolor": "#2a3f5f",
             "gridcolor": "white",
             "linecolor": "white",
             "minorgridcolor": "white",
             "startlinecolor": "#2a3f5f"
            },
            "baxis": {
             "endlinecolor": "#2a3f5f",
             "gridcolor": "white",
             "linecolor": "white",
             "minorgridcolor": "white",
             "startlinecolor": "#2a3f5f"
            },
            "type": "carpet"
           }
          ],
          "choropleth": [
           {
            "colorbar": {
             "outlinewidth": 0,
             "ticks": ""
            },
            "type": "choropleth"
           }
          ],
          "contour": [
           {
            "colorbar": {
             "outlinewidth": 0,
             "ticks": ""
            },
            "colorscale": [
             [
              0,
              "#0d0887"
             ],
             [
              0.1111111111111111,
              "#46039f"
             ],
             [
              0.2222222222222222,
              "#7201a8"
             ],
             [
              0.3333333333333333,
              "#9c179e"
             ],
             [
              0.4444444444444444,
              "#bd3786"
             ],
             [
              0.5555555555555556,
              "#d8576b"
             ],
             [
              0.6666666666666666,
              "#ed7953"
             ],
             [
              0.7777777777777778,
              "#fb9f3a"
             ],
             [
              0.8888888888888888,
              "#fdca26"
             ],
             [
              1,
              "#f0f921"
             ]
            ],
            "type": "contour"
           }
          ],
          "contourcarpet": [
           {
            "colorbar": {
             "outlinewidth": 0,
             "ticks": ""
            },
            "type": "contourcarpet"
           }
          ],
          "heatmap": [
           {
            "colorbar": {
             "outlinewidth": 0,
             "ticks": ""
            },
            "colorscale": [
             [
              0,
              "#0d0887"
             ],
             [
              0.1111111111111111,
              "#46039f"
             ],
             [
              0.2222222222222222,
              "#7201a8"
             ],
             [
              0.3333333333333333,
              "#9c179e"
             ],
             [
              0.4444444444444444,
              "#bd3786"
             ],
             [
              0.5555555555555556,
              "#d8576b"
             ],
             [
              0.6666666666666666,
              "#ed7953"
             ],
             [
              0.7777777777777778,
              "#fb9f3a"
             ],
             [
              0.8888888888888888,
              "#fdca26"
             ],
             [
              1,
              "#f0f921"
             ]
            ],
            "type": "heatmap"
           }
          ],
          "heatmapgl": [
           {
            "colorbar": {
             "outlinewidth": 0,
             "ticks": ""
            },
            "colorscale": [
             [
              0,
              "#0d0887"
             ],
             [
              0.1111111111111111,
              "#46039f"
             ],
             [
              0.2222222222222222,
              "#7201a8"
             ],
             [
              0.3333333333333333,
              "#9c179e"
             ],
             [
              0.4444444444444444,
              "#bd3786"
             ],
             [
              0.5555555555555556,
              "#d8576b"
             ],
             [
              0.6666666666666666,
              "#ed7953"
             ],
             [
              0.7777777777777778,
              "#fb9f3a"
             ],
             [
              0.8888888888888888,
              "#fdca26"
             ],
             [
              1,
              "#f0f921"
             ]
            ],
            "type": "heatmapgl"
           }
          ],
          "histogram": [
           {
            "marker": {
             "pattern": {
              "fillmode": "overlay",
              "size": 10,
              "solidity": 0.2
             }
            },
            "type": "histogram"
           }
          ],
          "histogram2d": [
           {
            "colorbar": {
             "outlinewidth": 0,
             "ticks": ""
            },
            "colorscale": [
             [
              0,
              "#0d0887"
             ],
             [
              0.1111111111111111,
              "#46039f"
             ],
             [
              0.2222222222222222,
              "#7201a8"
             ],
             [
              0.3333333333333333,
              "#9c179e"
             ],
             [
              0.4444444444444444,
              "#bd3786"
             ],
             [
              0.5555555555555556,
              "#d8576b"
             ],
             [
              0.6666666666666666,
              "#ed7953"
             ],
             [
              0.7777777777777778,
              "#fb9f3a"
             ],
             [
              0.8888888888888888,
              "#fdca26"
             ],
             [
              1,
              "#f0f921"
             ]
            ],
            "type": "histogram2d"
           }
          ],
          "histogram2dcontour": [
           {
            "colorbar": {
             "outlinewidth": 0,
             "ticks": ""
            },
            "colorscale": [
             [
              0,
              "#0d0887"
             ],
             [
              0.1111111111111111,
              "#46039f"
             ],
             [
              0.2222222222222222,
              "#7201a8"
             ],
             [
              0.3333333333333333,
              "#9c179e"
             ],
             [
              0.4444444444444444,
              "#bd3786"
             ],
             [
              0.5555555555555556,
              "#d8576b"
             ],
             [
              0.6666666666666666,
              "#ed7953"
             ],
             [
              0.7777777777777778,
              "#fb9f3a"
             ],
             [
              0.8888888888888888,
              "#fdca26"
             ],
             [
              1,
              "#f0f921"
             ]
            ],
            "type": "histogram2dcontour"
           }
          ],
          "mesh3d": [
           {
            "colorbar": {
             "outlinewidth": 0,
             "ticks": ""
            },
            "type": "mesh3d"
           }
          ],
          "parcoords": [
           {
            "line": {
             "colorbar": {
              "outlinewidth": 0,
              "ticks": ""
             }
            },
            "type": "parcoords"
           }
          ],
          "pie": [
           {
            "automargin": true,
            "type": "pie"
           }
          ],
          "scatter": [
           {
            "marker": {
             "colorbar": {
              "outlinewidth": 0,
              "ticks": ""
             }
            },
            "type": "scatter"
           }
          ],
          "scatter3d": [
           {
            "line": {
             "colorbar": {
              "outlinewidth": 0,
              "ticks": ""
             }
            },
            "marker": {
             "colorbar": {
              "outlinewidth": 0,
              "ticks": ""
             }
            },
            "type": "scatter3d"
           }
          ],
          "scattercarpet": [
           {
            "marker": {
             "colorbar": {
              "outlinewidth": 0,
              "ticks": ""
             }
            },
            "type": "scattercarpet"
           }
          ],
          "scattergeo": [
           {
            "marker": {
             "colorbar": {
              "outlinewidth": 0,
              "ticks": ""
             }
            },
            "type": "scattergeo"
           }
          ],
          "scattergl": [
           {
            "marker": {
             "colorbar": {
              "outlinewidth": 0,
              "ticks": ""
             }
            },
            "type": "scattergl"
           }
          ],
          "scattermapbox": [
           {
            "marker": {
             "colorbar": {
              "outlinewidth": 0,
              "ticks": ""
             }
            },
            "type": "scattermapbox"
           }
          ],
          "scatterpolar": [
           {
            "marker": {
             "colorbar": {
              "outlinewidth": 0,
              "ticks": ""
             }
            },
            "type": "scatterpolar"
           }
          ],
          "scatterpolargl": [
           {
            "marker": {
             "colorbar": {
              "outlinewidth": 0,
              "ticks": ""
             }
            },
            "type": "scatterpolargl"
           }
          ],
          "scatterternary": [
           {
            "marker": {
             "colorbar": {
              "outlinewidth": 0,
              "ticks": ""
             }
            },
            "type": "scatterternary"
           }
          ],
          "surface": [
           {
            "colorbar": {
             "outlinewidth": 0,
             "ticks": ""
            },
            "colorscale": [
             [
              0,
              "#0d0887"
             ],
             [
              0.1111111111111111,
              "#46039f"
             ],
             [
              0.2222222222222222,
              "#7201a8"
             ],
             [
              0.3333333333333333,
              "#9c179e"
             ],
             [
              0.4444444444444444,
              "#bd3786"
             ],
             [
              0.5555555555555556,
              "#d8576b"
             ],
             [
              0.6666666666666666,
              "#ed7953"
             ],
             [
              0.7777777777777778,
              "#fb9f3a"
             ],
             [
              0.8888888888888888,
              "#fdca26"
             ],
             [
              1,
              "#f0f921"
             ]
            ],
            "type": "surface"
           }
          ],
          "table": [
           {
            "cells": {
             "fill": {
              "color": "#EBF0F8"
             },
             "line": {
              "color": "white"
             }
            },
            "header": {
             "fill": {
              "color": "#C8D4E3"
             },
             "line": {
              "color": "white"
             }
            },
            "type": "table"
           }
          ]
         },
         "layout": {
          "annotationdefaults": {
           "arrowcolor": "#2a3f5f",
           "arrowhead": 0,
           "arrowwidth": 1
          },
          "autotypenumbers": "strict",
          "coloraxis": {
           "colorbar": {
            "outlinewidth": 0,
            "ticks": ""
           }
          },
          "colorscale": {
           "diverging": [
            [
             0,
             "#8e0152"
            ],
            [
             0.1,
             "#c51b7d"
            ],
            [
             0.2,
             "#de77ae"
            ],
            [
             0.3,
             "#f1b6da"
            ],
            [
             0.4,
             "#fde0ef"
            ],
            [
             0.5,
             "#f7f7f7"
            ],
            [
             0.6,
             "#e6f5d0"
            ],
            [
             0.7,
             "#b8e186"
            ],
            [
             0.8,
             "#7fbc41"
            ],
            [
             0.9,
             "#4d9221"
            ],
            [
             1,
             "#276419"
            ]
           ],
           "sequential": [
            [
             0,
             "#0d0887"
            ],
            [
             0.1111111111111111,
             "#46039f"
            ],
            [
             0.2222222222222222,
             "#7201a8"
            ],
            [
             0.3333333333333333,
             "#9c179e"
            ],
            [
             0.4444444444444444,
             "#bd3786"
            ],
            [
             0.5555555555555556,
             "#d8576b"
            ],
            [
             0.6666666666666666,
             "#ed7953"
            ],
            [
             0.7777777777777778,
             "#fb9f3a"
            ],
            [
             0.8888888888888888,
             "#fdca26"
            ],
            [
             1,
             "#f0f921"
            ]
           ],
           "sequentialminus": [
            [
             0,
             "#0d0887"
            ],
            [
             0.1111111111111111,
             "#46039f"
            ],
            [
             0.2222222222222222,
             "#7201a8"
            ],
            [
             0.3333333333333333,
             "#9c179e"
            ],
            [
             0.4444444444444444,
             "#bd3786"
            ],
            [
             0.5555555555555556,
             "#d8576b"
            ],
            [
             0.6666666666666666,
             "#ed7953"
            ],
            [
             0.7777777777777778,
             "#fb9f3a"
            ],
            [
             0.8888888888888888,
             "#fdca26"
            ],
            [
             1,
             "#f0f921"
            ]
           ]
          },
          "colorway": [
           "#636efa",
           "#EF553B",
           "#00cc96",
           "#ab63fa",
           "#FFA15A",
           "#19d3f3",
           "#FF6692",
           "#B6E880",
           "#FF97FF",
           "#FECB52"
          ],
          "font": {
           "color": "#2a3f5f"
          },
          "geo": {
           "bgcolor": "white",
           "lakecolor": "white",
           "landcolor": "#E5ECF6",
           "showlakes": true,
           "showland": true,
           "subunitcolor": "white"
          },
          "hoverlabel": {
           "align": "left"
          },
          "hovermode": "closest",
          "mapbox": {
           "style": "light"
          },
          "paper_bgcolor": "white",
          "plot_bgcolor": "#E5ECF6",
          "polar": {
           "angularaxis": {
            "gridcolor": "white",
            "linecolor": "white",
            "ticks": ""
           },
           "bgcolor": "#E5ECF6",
           "radialaxis": {
            "gridcolor": "white",
            "linecolor": "white",
            "ticks": ""
           }
          },
          "scene": {
           "xaxis": {
            "backgroundcolor": "#E5ECF6",
            "gridcolor": "white",
            "gridwidth": 2,
            "linecolor": "white",
            "showbackground": true,
            "ticks": "",
            "zerolinecolor": "white"
           },
           "yaxis": {
            "backgroundcolor": "#E5ECF6",
            "gridcolor": "white",
            "gridwidth": 2,
            "linecolor": "white",
            "showbackground": true,
            "ticks": "",
            "zerolinecolor": "white"
           },
           "zaxis": {
            "backgroundcolor": "#E5ECF6",
            "gridcolor": "white",
            "gridwidth": 2,
            "linecolor": "white",
            "showbackground": true,
            "ticks": "",
            "zerolinecolor": "white"
           }
          },
          "shapedefaults": {
           "line": {
            "color": "#2a3f5f"
           }
          },
          "ternary": {
           "aaxis": {
            "gridcolor": "white",
            "linecolor": "white",
            "ticks": ""
           },
           "baxis": {
            "gridcolor": "white",
            "linecolor": "white",
            "ticks": ""
           },
           "bgcolor": "#E5ECF6",
           "caxis": {
            "gridcolor": "white",
            "linecolor": "white",
            "ticks": ""
           }
          },
          "title": {
           "x": 0.05
          },
          "xaxis": {
           "automargin": true,
           "gridcolor": "white",
           "linecolor": "white",
           "ticks": "",
           "title": {
            "standoff": 15
           },
           "zerolinecolor": "white",
           "zerolinewidth": 2
          },
          "yaxis": {
           "automargin": true,
           "gridcolor": "white",
           "linecolor": "white",
           "ticks": "",
           "title": {
            "standoff": 15
           },
           "zerolinecolor": "white",
           "zerolinewidth": 2
          }
         }
        },
        "title": {
         "text": "F1 score diagram"
        },
        "width": 1000,
        "xaxis": {
         "anchor": "y",
         "domain": [
          0,
          1
         ],
         "title": {
          "text": "Iterations"
         }
        },
        "yaxis": {
         "anchor": "x",
         "domain": [
          0,
          1
         ],
         "title": {
          "text": "F1 Score"
         }
        }
       }
      }
     },
     "metadata": {},
     "output_type": "display_data"
    }
   ],
   "source": [
    "model = DummyClassifier(strategy=\"uniform\")\n",
    "acc_score = []\n",
    "f1_scores = []\n",
    "k = 10\n",
    "kf = KFold(n_splits=k, random_state=None)\n",
    "\n",
    "for train_index , test_index in kf.split(Xtrain):\n",
    "    X_train , X_test = X.iloc[train_index],X.iloc[test_index]\n",
    "    y_train , y_test = y[train_index] , y[test_index]\n",
    "     \n",
    "    model.fit(X_train, y_train)\n",
    "    pred_values = model.predict(X_test)\n",
    "     \n",
    "    accuracy = model.score(X_test, y_test)\n",
    "    acc_score.append(accuracy)\n",
    "\n",
    "    f1Score = f1_score(y_test, model.predict(X_test), average='macro')\n",
    "    f1_scores.append(f1Score)\n",
    "     \n",
    "avg_acc_score = sum(acc_score)/k\n",
    "avg_f1_score = sum(f1_scores)/k\n",
    "\n",
    "metrics.loc[len(metrics)] = ['Dummy', avg_acc_score, avg_f1_score]\n",
    "\n",
    "figAccScores = px.bar(acc_score, title='Accuracy',width=1000)\n",
    "figAccScores.update_layout(\n",
    "    title=\"Accuracy diagram\",\n",
    "    xaxis_title=\"Iterations\",\n",
    "    yaxis_title=\"Accuracy\",\n",
    "    font=dict(\n",
    "    family=\"Verdana, monospace\",\n",
    "    size=18,\n",
    "    color=\"#3c1518\")   \n",
    ")\n",
    "figAccScores.update_traces(marker_color='#a44200', marker_line_color='rgb(8,48,107)',\n",
    "                  marker_line_width=1.0)\n",
    "figF1Scores = px.bar(f1_scores, title='F1 Scores',width=1000)\n",
    "figF1Scores.update_layout(\n",
    "    title=\"F1 score diagram\",\n",
    "    xaxis_title=\"Iterations\",\n",
    "    yaxis_title=\"F1 Score\",\n",
    "    font=dict(\n",
    "    family=\"Verdana, monospace\",\n",
    "    size=18,\n",
    "    color=\"#3c1518\")   \n",
    ")\n",
    "figF1Scores.update_traces(marker_color='#a44200', marker_line_color='rgb(8,48,107)',\n",
    "                  marker_line_width=1.0)\n",
    "figAccScores.show()\n",
    "figF1Scores.show()"
   ]
  },
  {
   "attachments": {},
   "cell_type": "markdown",
   "metadata": {},
   "source": [
    "## <span style=\"color:#69140e\">Gaussian Naive Bayes</span>"
   ]
  },
  {
   "cell_type": "code",
   "execution_count": null,
   "metadata": {},
   "outputs": [],
   "source": [
    "model = GaussianNB()\n",
    "acc_score = []\n",
    "f1_scores = []\n",
    "k = 10\n",
    "kf = KFold(n_splits=k, random_state=None)\n",
    "\n",
    "for train_index , test_index in kf.split(Xtrain):\n",
    "    X_train , X_test = X.iloc[train_index],X.iloc[test_index]\n",
    "    y_train , y_test = y[train_index] , y[test_index]\n",
    "     \n",
    "    model.fit(X_train, y_train)\n",
    "    pred_values = model.predict(X_test)\n",
    "    \n",
    "    accuracy = model.score(X_test, y_test)\n",
    "    acc_score.append(accuracy)\n",
    "\n",
    "    f1Score = f1_score(y_test, model.predict(X_test), average='macro')\n",
    "    f1_scores.append(f1Score)\n",
    "     \n",
    "avg_acc_score = sum(acc_score)/k\n",
    "avg_f1_score = sum(f1_scores)/k\n",
    "\n",
    "metrics.loc[len(metrics)] = ['Gaussian Naive Bayes', avg_acc_score, avg_f1_score]\n",
    "\n",
    "figAccScores = px.bar(acc_score, title='Accuracy',width=1000)\n",
    "figAccScores.update_layout(\n",
    "    title=\"Accuracy diagram\",\n",
    "    xaxis_title=\"Iterations\",\n",
    "    yaxis_title=\"Accuracy\",\n",
    "    font=dict(\n",
    "    family=\"Verdana, monospace\",\n",
    "    size=18,\n",
    "    color=\"#3c1518\")   \n",
    ")\n",
    "figAccScores.update_traces(marker_color='#a44200', marker_line_color='rgb(8,48,107)',\n",
    "                  marker_line_width=1.0)\n",
    "figF1Scores = px.bar(f1_scores, title='F1 Scores',width=1000)\n",
    "figF1Scores.update_layout(\n",
    "    title=\"F1 score diagram\",\n",
    "    xaxis_title=\"Iterations\",\n",
    "    yaxis_title=\"F1 Score\",\n",
    "    font=dict(\n",
    "    family=\"Verdana, monospace\",\n",
    "    size=18,\n",
    "    color=\"#3c1518\")   \n",
    ")\n",
    "figF1Scores.update_traces(marker_color='#a44200', marker_line_color='rgb(8,48,107)',\n",
    "                  marker_line_width=1.0)\n",
    "figAccScores.show()\n",
    "figF1Scores.show()"
   ]
  },
  {
   "attachments": {},
   "cell_type": "markdown",
   "metadata": {},
   "source": [
    "## <span style=\"color:#69140e\">kNN</span>"
   ]
  },
  {
   "cell_type": "code",
   "execution_count": null,
   "metadata": {},
   "outputs": [],
   "source": [
    "model = KNeighborsClassifier()\n",
    "acc_score = []\n",
    "f1_scores = []\n",
    "k = 10\n",
    "kf = KFold(n_splits=k, random_state=None)\n",
    "\n",
    "for train_index , test_index in kf.split(Xtrain):\n",
    "    X_train , X_test = X.iloc[train_index],X.iloc[test_index]\n",
    "    y_train , y_test = y[train_index] , y[test_index]\n",
    "     \n",
    "    model.fit(X_train, y_train)\n",
    "    pred_values = model.predict(X_test)\n",
    "    \n",
    "    accuracy = model.score(X_test, y_test)\n",
    "    acc_score.append(accuracy)\n",
    "\n",
    "    f1Score = f1_score(y_test, model.predict(X_test), average='macro')\n",
    "    f1_scores.append(f1Score)\n",
    "     \n",
    "avg_acc_score = sum(acc_score)/k\n",
    "avg_f1_score = sum(f1_scores)/k\n",
    "\n",
    "metrics.loc[len(metrics)] = ['kNN', avg_acc_score, avg_f1_score]\n",
    "\n",
    "figAccScores = px.bar(acc_score, title='Accuracy',width=1000)\n",
    "figAccScores.update_layout(\n",
    "    title=\"Accuracy diagram\",\n",
    "    xaxis_title=\"Iterations\",\n",
    "    yaxis_title=\"Accuracy\",\n",
    "    font=dict(\n",
    "    family=\"Verdana, monospace\",\n",
    "    size=18,\n",
    "    color=\"#3c1518\")   \n",
    ")\n",
    "figAccScores.update_traces(marker_color='#a44200', marker_line_color='rgb(8,48,107)',\n",
    "                  marker_line_width=1.0)\n",
    "figF1Scores = px.bar(f1_scores, title='F1 Scores',width=1000)\n",
    "figF1Scores.update_layout(\n",
    "    title=\"F1 score diagram\",\n",
    "    xaxis_title=\"Iterations\",\n",
    "    yaxis_title=\"F1 Score\",\n",
    "    font=dict(\n",
    "    family=\"Verdana, monospace\",\n",
    "    size=18,\n",
    "    color=\"#3c1518\")   \n",
    ")\n",
    "figF1Scores.update_traces(marker_color='#a44200', marker_line_color='rgb(8,48,107)',\n",
    "                  marker_line_width=1.0)\n",
    "figAccScores.show()\n",
    "figF1Scores.show()"
   ]
  },
  {
   "attachments": {},
   "cell_type": "markdown",
   "metadata": {},
   "source": [
    "## <span style=\"color:#69140e\">Logistic Regression</span>"
   ]
  },
  {
   "cell_type": "code",
   "execution_count": null,
   "metadata": {},
   "outputs": [],
   "source": [
    "model = LogisticRegression(random_state=0)\n",
    "acc_score = []\n",
    "f1_scores = []\n",
    "k = 10\n",
    "kf = KFold(n_splits=k, random_state=None)\n",
    "\n",
    "for train_index , test_index in kf.split(Xtrain):\n",
    "    X_train , X_test = X.iloc[train_index],X.iloc[test_index]\n",
    "    y_train , y_test = y[train_index] , y[test_index]\n",
    "     \n",
    "    model.fit(X_train, y_train)\n",
    "    pred_values = model.predict(X_test)\n",
    "    \n",
    "    accuracy = model.score(X_test, y_test)\n",
    "    acc_score.append(accuracy)\n",
    "\n",
    "    f1Score = f1_score(y_test, model.predict(X_test), average='macro')\n",
    "    f1_scores.append(f1Score)\n",
    "     \n",
    "avg_acc_score = sum(acc_score)/k\n",
    "avg_f1_score = sum(f1_scores)/k\n",
    "\n",
    "metrics.loc[len(metrics)] = ['Logistic Regression', avg_acc_score, avg_f1_score]\n",
    "\n",
    "figAccScores = px.bar(acc_score, title='Accuracy',width=1000)\n",
    "figAccScores.update_layout(\n",
    "    title=\"Accuracy diagram\",\n",
    "    xaxis_title=\"Iterations\",\n",
    "    yaxis_title=\"Accuracy\",\n",
    "    font=dict(\n",
    "    family=\"Verdana, monospace\",\n",
    "    size=18,\n",
    "    color=\"#3c1518\")   \n",
    ")\n",
    "figAccScores.update_traces(marker_color='#a44200', marker_line_color='rgb(8,48,107)',\n",
    "                  marker_line_width=1.0)\n",
    "figF1Scores = px.bar(f1_scores, title='F1 Scores',width=1000)\n",
    "figF1Scores.update_layout(\n",
    "    title=\"F1 score diagram\",\n",
    "    xaxis_title=\"Iterations\",\n",
    "    yaxis_title=\"F1 Score\",\n",
    "    font=dict(\n",
    "    family=\"Verdana, monospace\",\n",
    "    size=18,\n",
    "    color=\"#3c1518\")   \n",
    ")\n",
    "figF1Scores.update_traces(marker_color='#a44200', marker_line_color='rgb(8,48,107)',\n",
    "                  marker_line_width=1.0)\n",
    "figAccScores.show()\n",
    "figF1Scores.show()"
   ]
  },
  {
   "attachments": {},
   "cell_type": "markdown",
   "metadata": {},
   "source": [
    "## <span style=\"color:#69140e\">Multi Layer Perceptron</span>"
   ]
  },
  {
   "cell_type": "code",
   "execution_count": null,
   "metadata": {},
   "outputs": [],
   "source": [
    "model = MLPClassifier()\n",
    "acc_score = []\n",
    "f1_scores = []\n",
    "k = 10\n",
    "kf = KFold(n_splits=k, random_state=None)\n",
    "\n",
    "for train_index , test_index in kf.split(Xtrain):\n",
    "    X_train , X_test = X.iloc[train_index],X.iloc[test_index]\n",
    "    y_train , y_test = y[train_index] , y[test_index]\n",
    "     \n",
    "    model.fit(X_train, y_train)\n",
    "    pred_values = model.predict(X_test)\n",
    "    \n",
    "    accuracy = model.score(X_test, y_test)\n",
    "    acc_score.append(accuracy)\n",
    "\n",
    "    f1Score = f1_score(y_test, model.predict(X_test), average='macro')\n",
    "    f1_scores.append(f1Score)\n",
    "     \n",
    "avg_acc_score = sum(acc_score)/k\n",
    "avg_f1_score = sum(f1_scores)/k\n",
    "\n",
    "metrics.loc[len(metrics)] = ['Multi Layer Perceptron', avg_acc_score, avg_f1_score]\n",
    "\n",
    "figAccScores = px.bar(acc_score, title='Accuracy',width=1000)\n",
    "figAccScores.update_layout(\n",
    "    title=\"Accuracy diagram\",\n",
    "    xaxis_title=\"Iterations\",\n",
    "    yaxis_title=\"Accuracy\",\n",
    "    font=dict(\n",
    "    family=\"Verdana, monospace\",\n",
    "    size=18,\n",
    "    color=\"#3c1518\")   \n",
    ")\n",
    "figAccScores.update_traces(marker_color='#a44200', marker_line_color='rgb(8,48,107)',\n",
    "                  marker_line_width=1.0)\n",
    "figF1Scores = px.bar(f1_scores, title='F1 Scores',width=1000)\n",
    "figF1Scores.update_layout(\n",
    "    title=\"F1 score diagram\",\n",
    "    xaxis_title=\"Iterations\",\n",
    "    yaxis_title=\"F1 Score\",\n",
    "    font=dict(\n",
    "    family=\"Verdana, monospace\",\n",
    "    size=18,\n",
    "    color=\"#3c1518\")   \n",
    ")\n",
    "figF1Scores.update_traces(marker_color='#a44200', marker_line_color='rgb(8,48,107)',\n",
    "                  marker_line_width=1.0)\n",
    "figAccScores.show()\n",
    "figF1Scores.show()"
   ]
  },
  {
   "attachments": {},
   "cell_type": "markdown",
   "metadata": {},
   "source": [
    "## <span style=\"color:#69140e\">SVM</span>"
   ]
  },
  {
   "cell_type": "code",
   "execution_count": null,
   "metadata": {},
   "outputs": [],
   "source": [
    "model = SVC(gamma='auto')\n",
    "acc_score = []\n",
    "f1_scores = []\n",
    "k = 10\n",
    "kf = KFold(n_splits=k, random_state=None)\n",
    "\n",
    "for train_index , test_index in kf.split(Xtrain):\n",
    "    X_train , X_test = X.iloc[train_index],X.iloc[test_index]\n",
    "    y_train , y_test = y[train_index] , y[test_index]\n",
    "     \n",
    "    model.fit(X_train, y_train)\n",
    "    pred_values = model.predict(X_test)\n",
    "    \n",
    "    accuracy = model.score(X_test, y_test)\n",
    "    acc_score.append(accuracy)\n",
    "\n",
    "    f1Score = f1_score(y_test, model.predict(X_test), average='macro')\n",
    "    f1_scores.append(f1Score)\n",
    "     \n",
    "avg_acc_score = sum(acc_score)/k\n",
    "avg_f1_score = sum(f1_scores)/k\n",
    "\n",
    "metrics.loc[len(metrics)] = ['Multi Layer Perceptron', avg_acc_score, avg_f1_score]\n",
    "\n",
    "figAccScores = px.bar(acc_score, title='Accuracy',width=1000)\n",
    "figAccScores.update_layout(\n",
    "    title=\"Accuracy diagram\",\n",
    "    xaxis_title=\"Iterations\",\n",
    "    yaxis_title=\"Accuracy\",\n",
    "    font=dict(\n",
    "    family=\"Verdana, monospace\",\n",
    "    size=18,\n",
    "    color=\"#3c1518\")   \n",
    ")\n",
    "figAccScores.update_traces(marker_color='#a44200', marker_line_color='rgb(8,48,107)',\n",
    "                  marker_line_width=1.0)\n",
    "figF1Scores = px.bar(f1_scores, title='F1 Scores',width=1000)\n",
    "figF1Scores.update_layout(\n",
    "    title=\"F1 score diagram\",\n",
    "    xaxis_title=\"Iterations\",\n",
    "    yaxis_title=\"F1 Score\",\n",
    "    font=dict(\n",
    "    family=\"Verdana, monospace\",\n",
    "    size=18,\n",
    "    color=\"#3c1518\")   \n",
    ")\n",
    "figF1Scores.update_traces(marker_color='#a44200', marker_line_color='rgb(8,48,107)',\n",
    "                  marker_line_width=1.0)\n",
    "figAccScores.show()\n",
    "figF1Scores.show()"
   ]
  },
  {
   "attachments": {},
   "cell_type": "markdown",
   "metadata": {},
   "source": [
    "# **<span style=\"color:#3c1518\">Optimization</span>**"
   ]
  },
  {
   "attachments": {},
   "cell_type": "markdown",
   "metadata": {},
   "source": [
    "## <span style=\"color:#69140e\">Dummy Classifier</span>"
   ]
  },
  {
   "cell_type": "code",
   "execution_count": null,
   "metadata": {},
   "outputs": [],
   "source": [
    "model = DummyClassifier()\n",
    "param_grid = {\"strategy\": ['most_frequent', 'prior', 'stratified', 'uniform']}\n",
    "search = HalvingGridSearchCV(model, param_grid,max_resources='auto',random_state=0).fit(Xtrain, ytrain)\n",
    "print('The best strategy is: ',search.best_params_['strategy'])\n",
    "\n",
    "model = DummyClassifier(strategy=search.best_params_['strategy'])\n",
    "startTime = time.time()\n",
    "model.fit(Xtrain,ytrain)\n",
    "stopTime = time.time()\n",
    "print(f\"Training time: {stopTime - startTime} s\")\n"
   ]
  },
  {
   "cell_type": "code",
   "execution_count": 19,
   "metadata": {},
   "outputs": [
    {
     "data": {
      "text/plain": [
       "HalvingGridSearchCV(estimator=Pipeline(steps=[('scaler', StandardScaler()),\n",
       "                                              ('dummy', DummyClassifier())]),\n",
       "                    n_jobs=2,\n",
       "                    param_grid={'dummy__strategy': ['most_frequent', 'prior',\n",
       "                                                    'stratified', 'uniform']})"
      ]
     },
     "execution_count": 19,
     "metadata": {},
     "output_type": "execute_result"
    }
   ],
   "source": [
    "model = DummyClassifier()\n",
    "# Define a Standard Scaler to normalize inputs\n",
    "scaler = StandardScaler()\n",
    "\n",
    "# set the tolerance to a large value to make the example faster\n",
    "\n",
    "pipe = Pipeline(steps=[(\"scaler\", scaler), ('dummy', model)])\n",
    "\n",
    "# Parameters of pipelines can be set using '__' separated parameter names:\n",
    "param_grid = {\"dummy__strategy\": ['most_frequent', 'prior', 'stratified', 'uniform']}\n",
    "search = HalvingGridSearchCV(pipe, param_grid, n_jobs=2)\n",
    "search.fit(Xtrain, ytrain)"
   ]
  },
  {
   "cell_type": "code",
   "execution_count": 21,
   "metadata": {},
   "outputs": [
    {
     "data": {
      "text/html": [
       "<div>\n",
       "<style scoped>\n",
       "    .dataframe tbody tr th:only-of-type {\n",
       "        vertical-align: middle;\n",
       "    }\n",
       "\n",
       "    .dataframe tbody tr th {\n",
       "        vertical-align: top;\n",
       "    }\n",
       "\n",
       "    .dataframe thead th {\n",
       "        text-align: right;\n",
       "    }\n",
       "</style>\n",
       "<table border=\"1\" class=\"dataframe\">\n",
       "  <thead>\n",
       "    <tr style=\"text-align: right;\">\n",
       "      <th></th>\n",
       "      <th>iter</th>\n",
       "      <th>n_resources</th>\n",
       "      <th>mean_fit_time</th>\n",
       "      <th>std_fit_time</th>\n",
       "      <th>mean_score_time</th>\n",
       "      <th>std_score_time</th>\n",
       "      <th>param_dummy__strategy</th>\n",
       "      <th>params</th>\n",
       "      <th>split0_test_score</th>\n",
       "      <th>split1_test_score</th>\n",
       "      <th>...</th>\n",
       "      <th>mean_test_score</th>\n",
       "      <th>std_test_score</th>\n",
       "      <th>rank_test_score</th>\n",
       "      <th>split0_train_score</th>\n",
       "      <th>split1_train_score</th>\n",
       "      <th>split2_train_score</th>\n",
       "      <th>split3_train_score</th>\n",
       "      <th>split4_train_score</th>\n",
       "      <th>mean_train_score</th>\n",
       "      <th>std_train_score</th>\n",
       "    </tr>\n",
       "  </thead>\n",
       "  <tbody>\n",
       "    <tr>\n",
       "      <th>0</th>\n",
       "      <td>0</td>\n",
       "      <td>3245</td>\n",
       "      <td>0.014592</td>\n",
       "      <td>0.000487</td>\n",
       "      <td>0.002004</td>\n",
       "      <td>0.000620</td>\n",
       "      <td>most_frequent</td>\n",
       "      <td>{'dummy__strategy': 'most_frequent'}</td>\n",
       "      <td>0.229584</td>\n",
       "      <td>0.238829</td>\n",
       "      <td>...</td>\n",
       "      <td>0.221152</td>\n",
       "      <td>0.011322</td>\n",
       "      <td>1</td>\n",
       "      <td>0.215800</td>\n",
       "      <td>0.219268</td>\n",
       "      <td>0.218798</td>\n",
       "      <td>0.221109</td>\n",
       "      <td>0.215331</td>\n",
       "      <td>0.218061</td>\n",
       "      <td>0.002184</td>\n",
       "    </tr>\n",
       "    <tr>\n",
       "      <th>1</th>\n",
       "      <td>0</td>\n",
       "      <td>3245</td>\n",
       "      <td>0.014600</td>\n",
       "      <td>0.001200</td>\n",
       "      <td>0.002400</td>\n",
       "      <td>0.000490</td>\n",
       "      <td>prior</td>\n",
       "      <td>{'dummy__strategy': 'prior'}</td>\n",
       "      <td>0.229584</td>\n",
       "      <td>0.238829</td>\n",
       "      <td>...</td>\n",
       "      <td>0.221152</td>\n",
       "      <td>0.011322</td>\n",
       "      <td>1</td>\n",
       "      <td>0.215800</td>\n",
       "      <td>0.219268</td>\n",
       "      <td>0.218798</td>\n",
       "      <td>0.221109</td>\n",
       "      <td>0.215331</td>\n",
       "      <td>0.218061</td>\n",
       "      <td>0.002184</td>\n",
       "    </tr>\n",
       "    <tr>\n",
       "      <th>2</th>\n",
       "      <td>0</td>\n",
       "      <td>3245</td>\n",
       "      <td>0.013809</td>\n",
       "      <td>0.001159</td>\n",
       "      <td>0.002000</td>\n",
       "      <td>0.000004</td>\n",
       "      <td>stratified</td>\n",
       "      <td>{'dummy__strategy': 'stratified'}</td>\n",
       "      <td>0.180277</td>\n",
       "      <td>0.171032</td>\n",
       "      <td>...</td>\n",
       "      <td>0.183225</td>\n",
       "      <td>0.007309</td>\n",
       "      <td>5</td>\n",
       "      <td>0.187669</td>\n",
       "      <td>0.180732</td>\n",
       "      <td>0.181818</td>\n",
       "      <td>0.167565</td>\n",
       "      <td>0.180277</td>\n",
       "      <td>0.179612</td>\n",
       "      <td>0.006582</td>\n",
       "    </tr>\n",
       "    <tr>\n",
       "      <th>3</th>\n",
       "      <td>0</td>\n",
       "      <td>3245</td>\n",
       "      <td>0.013805</td>\n",
       "      <td>0.000403</td>\n",
       "      <td>0.002207</td>\n",
       "      <td>0.000396</td>\n",
       "      <td>uniform</td>\n",
       "      <td>{'dummy__strategy': 'uniform'}</td>\n",
       "      <td>0.169492</td>\n",
       "      <td>0.154083</td>\n",
       "      <td>...</td>\n",
       "      <td>0.164715</td>\n",
       "      <td>0.024065</td>\n",
       "      <td>6</td>\n",
       "      <td>0.168786</td>\n",
       "      <td>0.165318</td>\n",
       "      <td>0.164869</td>\n",
       "      <td>0.174884</td>\n",
       "      <td>0.169106</td>\n",
       "      <td>0.168593</td>\n",
       "      <td>0.003591</td>\n",
       "    </tr>\n",
       "    <tr>\n",
       "      <th>4</th>\n",
       "      <td>1</td>\n",
       "      <td>9735</td>\n",
       "      <td>0.029519</td>\n",
       "      <td>0.001441</td>\n",
       "      <td>0.004005</td>\n",
       "      <td>0.000900</td>\n",
       "      <td>most_frequent</td>\n",
       "      <td>{'dummy__strategy': 'most_frequent'}</td>\n",
       "      <td>0.214689</td>\n",
       "      <td>0.215203</td>\n",
       "      <td>...</td>\n",
       "      <td>0.215269</td>\n",
       "      <td>0.000362</td>\n",
       "      <td>3</td>\n",
       "      <td>0.215359</td>\n",
       "      <td>0.215359</td>\n",
       "      <td>0.215074</td>\n",
       "      <td>0.215331</td>\n",
       "      <td>0.215331</td>\n",
       "      <td>0.215291</td>\n",
       "      <td>0.000109</td>\n",
       "    </tr>\n",
       "    <tr>\n",
       "      <th>5</th>\n",
       "      <td>1</td>\n",
       "      <td>9735</td>\n",
       "      <td>0.029888</td>\n",
       "      <td>0.000795</td>\n",
       "      <td>0.003003</td>\n",
       "      <td>0.000633</td>\n",
       "      <td>prior</td>\n",
       "      <td>{'dummy__strategy': 'prior'}</td>\n",
       "      <td>0.214689</td>\n",
       "      <td>0.215203</td>\n",
       "      <td>...</td>\n",
       "      <td>0.215269</td>\n",
       "      <td>0.000362</td>\n",
       "      <td>3</td>\n",
       "      <td>0.215359</td>\n",
       "      <td>0.215359</td>\n",
       "      <td>0.215074</td>\n",
       "      <td>0.215331</td>\n",
       "      <td>0.215331</td>\n",
       "      <td>0.215291</td>\n",
       "      <td>0.000109</td>\n",
       "    </tr>\n",
       "  </tbody>\n",
       "</table>\n",
       "<p>6 rows × 23 columns</p>\n",
       "</div>"
      ],
      "text/plain": [
       "   iter  n_resources  mean_fit_time  std_fit_time  mean_score_time  \\\n",
       "0     0         3245       0.014592      0.000487         0.002004   \n",
       "1     0         3245       0.014600      0.001200         0.002400   \n",
       "2     0         3245       0.013809      0.001159         0.002000   \n",
       "3     0         3245       0.013805      0.000403         0.002207   \n",
       "4     1         9735       0.029519      0.001441         0.004005   \n",
       "5     1         9735       0.029888      0.000795         0.003003   \n",
       "\n",
       "   std_score_time param_dummy__strategy                                params  \\\n",
       "0        0.000620         most_frequent  {'dummy__strategy': 'most_frequent'}   \n",
       "1        0.000490                 prior          {'dummy__strategy': 'prior'}   \n",
       "2        0.000004            stratified     {'dummy__strategy': 'stratified'}   \n",
       "3        0.000396               uniform        {'dummy__strategy': 'uniform'}   \n",
       "4        0.000900         most_frequent  {'dummy__strategy': 'most_frequent'}   \n",
       "5        0.000633                 prior          {'dummy__strategy': 'prior'}   \n",
       "\n",
       "   split0_test_score  split1_test_score  ...  mean_test_score  std_test_score  \\\n",
       "0           0.229584           0.238829  ...         0.221152        0.011322   \n",
       "1           0.229584           0.238829  ...         0.221152        0.011322   \n",
       "2           0.180277           0.171032  ...         0.183225        0.007309   \n",
       "3           0.169492           0.154083  ...         0.164715        0.024065   \n",
       "4           0.214689           0.215203  ...         0.215269        0.000362   \n",
       "5           0.214689           0.215203  ...         0.215269        0.000362   \n",
       "\n",
       "   rank_test_score  split0_train_score  split1_train_score  \\\n",
       "0                1            0.215800            0.219268   \n",
       "1                1            0.215800            0.219268   \n",
       "2                5            0.187669            0.180732   \n",
       "3                6            0.168786            0.165318   \n",
       "4                3            0.215359            0.215359   \n",
       "5                3            0.215359            0.215359   \n",
       "\n",
       "   split2_train_score  split3_train_score  split4_train_score  \\\n",
       "0            0.218798            0.221109            0.215331   \n",
       "1            0.218798            0.221109            0.215331   \n",
       "2            0.181818            0.167565            0.180277   \n",
       "3            0.164869            0.174884            0.169106   \n",
       "4            0.215074            0.215331            0.215331   \n",
       "5            0.215074            0.215331            0.215331   \n",
       "\n",
       "   mean_train_score  std_train_score  \n",
       "0          0.218061         0.002184  \n",
       "1          0.218061         0.002184  \n",
       "2          0.179612         0.006582  \n",
       "3          0.168593         0.003591  \n",
       "4          0.215291         0.000109  \n",
       "5          0.215291         0.000109  \n",
       "\n",
       "[6 rows x 23 columns]"
      ]
     },
     "execution_count": 21,
     "metadata": {},
     "output_type": "execute_result"
    }
   ],
   "source": [
    "pd.DataFrame(search.cv_results_)"
   ]
  }
 ],
 "metadata": {
  "kernelspec": {
   "display_name": "Python 3.9.12 ('base')",
   "language": "python",
   "name": "python3"
  },
  "language_info": {
   "codemirror_mode": {
    "name": "ipython",
    "version": 3
   },
   "file_extension": ".py",
   "mimetype": "text/x-python",
   "name": "python",
   "nbconvert_exporter": "python",
   "pygments_lexer": "ipython3",
   "version": "3.9.12"
  },
  "orig_nbformat": 4,
  "vscode": {
   "interpreter": {
    "hash": "889e55a573b76528713bac4fce8d70a6b59107bdffa5d549a65edbddc0954ac2"
   }
  }
 },
 "nbformat": 4,
 "nbformat_minor": 2
}
